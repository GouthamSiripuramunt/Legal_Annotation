{
 "cells": [
  {
   "cell_type": "code",
   "execution_count": 1,
   "metadata": {
    "colab": {
     "base_uri": "https://localhost:8080/"
    },
    "id": "6UaWIC_G0HBy",
    "outputId": "8ac794da-419b-4547-d50c-c8fd52c989a0"
   },
   "outputs": [
    {
     "name": "stdout",
     "output_type": "stream",
     "text": [
      "Mounted at /content/drive\n"
     ]
    }
   ],
   "source": [
    "from google.colab import drive\n",
    "drive.mount('/content/drive')"
   ]
  },
  {
   "cell_type": "code",
   "execution_count": 1,
   "metadata": {
    "colab": {
     "base_uri": "https://localhost:8080/"
    },
    "id": "nRaMRjm40SAX",
    "outputId": "34d2408f-e972-4edb-bae4-75c15102bc49"
   },
   "outputs": [
    {
     "name": "stderr",
     "output_type": "stream",
     "text": [
      "C:\\Users\\LaptopCheckout\\anaconda3\\lib\\site-packages\\xgboost\\compat.py:36: FutureWarning: pandas.Int64Index is deprecated and will be removed from pandas in a future version. Use pandas.Index with the appropriate dtype instead.\n",
      "  from pandas import MultiIndex, Int64Index\n",
      "[nltk_data] Downloading package stopwords to\n",
      "[nltk_data]     C:\\Users\\LaptopCheckout\\AppData\\Roaming\\nltk_data...\n",
      "[nltk_data]   Package stopwords is already up-to-date!\n",
      "[nltk_data] Downloading package wordnet to\n",
      "[nltk_data]     C:\\Users\\LaptopCheckout\\AppData\\Roaming\\nltk_data...\n",
      "[nltk_data]   Package wordnet is already up-to-date!\n"
     ]
    }
   ],
   "source": [
    "import pandas as pd, glob, re, string,seaborn as sns\n",
    "from nltk.corpus import stopwords\n",
    "import nltk\n",
    "from nltk.stem.wordnet import WordNetLemmatizer\n",
    "from sklearn.feature_extraction.text import CountVectorizer, TfidfVectorizer,TfidfTransformer\n",
    "from sklearn.decomposition import PCA,TruncatedSVD\n",
    "from sklearn.metrics import accuracy_score,classification_report, confusion_matrix,f1_score,precision_recall_fscore_support,log_loss\n",
    "from sklearn.linear_model import Lasso, SGDClassifier,LogisticRegression, RidgeClassifier, PassiveAggressiveClassifier\n",
    "from sklearn.ensemble import RandomForestClassifier, AdaBoostClassifier, GradientBoostingClassifier,BaggingClassifier,ExtraTreesClassifier\n",
    "from sklearn.tree import DecisionTreeClassifier, ExtraTreeClassifier\n",
    "from sklearn.neighbors import KNeighborsClassifier\n",
    "from sklearn.svm import LinearSVC, SVC\n",
    "from sklearn.naive_bayes import GaussianNB\n",
    "from sklearn.gaussian_process import GaussianProcessClassifier\n",
    "from sklearn.discriminant_analysis import LinearDiscriminantAnalysis,QuadraticDiscriminantAnalysis\n",
    "from xgboost import XGBClassifier\n",
    "from lightgbm import LGBMClassifier\n",
    "import keras.backend as K\n",
    "import tensorflow as tf\n",
    "from keras import layers, losses\n",
    "from keras.callbacks import Callback, ReduceLROnPlateau, EarlyStopping,TensorBoard\n",
    "from sklearn.model_selection import train_test_split,GridSearchCV, LeaveOneOut, KFold,cross_val_score\n",
    "#import tensorflow_text as text\n",
    "import tensorflow_hub as hub\n",
    "from sklearn.preprocessing import LabelEncoder\n",
    "l = LabelEncoder()\n",
    "import nltk\n",
    "nltk.download('stopwords')\n",
    "nltk.download('wordnet')\n",
    "from numpy import mean\n",
    "from matplotlib import pyplot\n",
    "from tqdm import tqdm\n"
   ]
  },
  {
   "cell_type": "markdown",
   "metadata": {
    "id": "r5LQq92UCWvq"
   },
   "source": [
    "**Create DataFrames**"
   ]
  },
  {
   "cell_type": "code",
   "execution_count": 7,
   "metadata": {
    "id": "sZPucQtP0SDi"
   },
   "outputs": [],
   "source": [
    "def clean_text(text,stop_words=True, normalization=True):\n",
    "    cleaned_text = text.lower()\n",
    "    cleaned_text = \"\".join(c for c in cleaned_text if c not in string.punctuation)\n",
    "    cleaned_text = \"\".join(c for c in cleaned_text if ord(c)<128)\n",
    "    words = cleaned_text.split()\n",
    "    if normalization == True:\n",
    "      if stop_words==True:\n",
    "          words = [w for w in words if w not in stopwords.words(\"english\")]\n",
    "      lem = WordNetLemmatizer()\n",
    "      words = [lem.lemmatize(word, \"v\") for word in words]\n",
    "      words = [lem.lemmatize(word, \"n\") for word in words]\n",
    "    cleaned_text = \" \".join(words)\n",
    "    return cleaned_text\n",
    "def create_dataframe(path):\n",
    "    train_files = glob.glob(path + \"/*.csv\")\n",
    "    df = pd.concat([pd.read_csv(filename, index_col=None, header=0) for filename in train_files], axis=0, ignore_index=True)\n",
    "    df = df.drop(['Unnamed: 0'],axis=1)\n",
    "    return df"
   ]
  },
  {
   "cell_type": "code",
   "execution_count": 6,
   "metadata": {
    "colab": {
     "base_uri": "https://localhost:8080/",
     "height": 206
    },
    "id": "mC0eJ0_E0SHp",
    "outputId": "584c22c9-179d-4d18-97b5-e2a0f6635be7"
   },
   "outputs": [
    {
     "data": {
      "text/html": [
       "<div>\n",
       "<style scoped>\n",
       "    .dataframe tbody tr th:only-of-type {\n",
       "        vertical-align: middle;\n",
       "    }\n",
       "\n",
       "    .dataframe tbody tr th {\n",
       "        vertical-align: top;\n",
       "    }\n",
       "\n",
       "    .dataframe thead th {\n",
       "        text-align: right;\n",
       "    }\n",
       "</style>\n",
       "<table border=\"1\" class=\"dataframe\">\n",
       "  <thead>\n",
       "    <tr style=\"text-align: right;\">\n",
       "      <th></th>\n",
       "      <th>Sentence</th>\n",
       "      <th>Target</th>\n",
       "    </tr>\n",
       "  </thead>\n",
       "  <tbody>\n",
       "    <tr>\n",
       "      <th>0</th>\n",
       "      <td>Appellant had stated to the officers that she ...</td>\n",
       "      <td>Invalid</td>\n",
       "    </tr>\n",
       "    <tr>\n",
       "      <th>1</th>\n",
       "      <td>We shall discuss the facts more fully in conne...</td>\n",
       "      <td>Others</td>\n",
       "    </tr>\n",
       "    <tr>\n",
       "      <th>2</th>\n",
       "      <td>â€œPerjury is a false statement, either writte...</td>\n",
       "      <td>Invalid</td>\n",
       "    </tr>\n",
       "    <tr>\n",
       "      <th>3</th>\n",
       "      <td>The offense is felony theft by false pretext; ...</td>\n",
       "      <td>Issue</td>\n",
       "    </tr>\n",
       "    <tr>\n",
       "      <th>4</th>\n",
       "      <td>Numerous contentions urging the commission of ...</td>\n",
       "      <td>Issue</td>\n",
       "    </tr>\n",
       "  </tbody>\n",
       "</table>\n",
       "</div>"
      ],
      "text/plain": [
       "                                            Sentence   Target\n",
       "0  Appellant had stated to the officers that she ...  Invalid\n",
       "1  We shall discuss the facts more fully in conne...   Others\n",
       "2  â€œPerjury is a false statement, either writte...  Invalid\n",
       "3  The offense is felony theft by false pretext; ...    Issue\n",
       "4  Numerous contentions urging the commission of ...    Issue"
      ]
     },
     "execution_count": 6,
     "metadata": {},
     "output_type": "execute_result"
    }
   ],
   "source": [
    "path = r'C:/Users/LaptopCheckout/Downloads/LegalArgumentMining/'\n",
    "df_train = create_dataframe(path + \"Train_data\")\n",
    "df_test = create_dataframe(path + \"test_data\")\n",
    "df_unlabelled = create_dataframe(path + \"Unlabeled_data\")\n",
    "df_train.head()"
   ]
  },
  {
   "cell_type": "code",
   "execution_count": 8,
   "metadata": {},
   "outputs": [
    {
     "data": {
      "text/html": [
       "<div>\n",
       "<style scoped>\n",
       "    .dataframe tbody tr th:only-of-type {\n",
       "        vertical-align: middle;\n",
       "    }\n",
       "\n",
       "    .dataframe tbody tr th {\n",
       "        vertical-align: top;\n",
       "    }\n",
       "\n",
       "    .dataframe thead th {\n",
       "        text-align: right;\n",
       "    }\n",
       "</style>\n",
       "<table border=\"1\" class=\"dataframe\">\n",
       "  <thead>\n",
       "    <tr style=\"text-align: right;\">\n",
       "      <th></th>\n",
       "      <th>Sentence</th>\n",
       "      <th>Target</th>\n",
       "    </tr>\n",
       "  </thead>\n",
       "  <tbody>\n",
       "    <tr>\n",
       "      <th>0</th>\n",
       "      <td>Darden Sr. testified â€œI saw he was staggerin...</td>\n",
       "      <td>Facts</td>\n",
       "    </tr>\n",
       "    <tr>\n",
       "      <th>1</th>\n",
       "      <td>Additional moral justification may have been d...</td>\n",
       "      <td>Analysis</td>\n",
       "    </tr>\n",
       "    <tr>\n",
       "      <th>2</th>\n",
       "      <td>85, 22 S.W. 140, wherein the accused was actin...</td>\n",
       "      <td>Rule/Law/Holding</td>\n",
       "    </tr>\n",
       "    <tr>\n",
       "      <th>3</th>\n",
       "      <td>Under a proper instruction from the court on m...</td>\n",
       "      <td>Facts</td>\n",
       "    </tr>\n",
       "    <tr>\n",
       "      <th>4</th>\n",
       "      <td>He is eligible for leaves to renew contacts wi...</td>\n",
       "      <td>Facts</td>\n",
       "    </tr>\n",
       "  </tbody>\n",
       "</table>\n",
       "</div>"
      ],
      "text/plain": [
       "                                            Sentence            Target\n",
       "0  Darden Sr. testified â€œI saw he was staggerin...             Facts\n",
       "1  Additional moral justification may have been d...          Analysis\n",
       "2  85, 22 S.W. 140, wherein the accused was actin...  Rule/Law/Holding\n",
       "3  Under a proper instruction from the court on m...             Facts\n",
       "4  He is eligible for leaves to renew contacts wi...             Facts"
      ]
     },
     "execution_count": 8,
     "metadata": {},
     "output_type": "execute_result"
    }
   ],
   "source": [
    "df_test = create_dataframe(path + \"test_data\")\n",
    "df_test.head()"
   ]
  },
  {
   "cell_type": "markdown",
   "metadata": {
    "id": "a1HDZOFqLlne"
   },
   "source": [
    "Analysis on length of all the sentences in the train set"
   ]
  },
  {
   "cell_type": "code",
   "execution_count": 9,
   "metadata": {
    "colab": {
     "base_uri": "https://localhost:8080/",
     "height": 283
    },
    "id": "yz5I2P16LKja",
    "outputId": "a9f1e939-f8c3-4114-f559-16d6fcd90368"
   },
   "outputs": [
    {
     "data": {
      "text/plain": [
       "<AxesSubplot:>"
      ]
     },
     "execution_count": 9,
     "metadata": {},
     "output_type": "execute_result"
    },
    {
     "data": {
      "image/png": "[encoded data removed]",
      "text/plain": [
       "<Figure size 432x288 with 1 Axes>"
      ]
     },
     "metadata": {
      "needs_background": "light"
     },
     "output_type": "display_data"
    }
   ],
   "source": [
    "pd.Series([len(i.split()) for i in df_train['Sentence']]).hist(bins = 30)"
   ]
  },
  {
   "cell_type": "code",
   "execution_count": 10,
   "metadata": {
    "colab": {
     "base_uri": "https://localhost:8080/",
     "height": 652
    },
    "id": "FNVmwgEDFud9",
    "outputId": "78850d4d-4964-470b-d843-4fa0be35ec27"
   },
   "outputs": [
    {
     "data": {
      "image/png": "[encoded data removed]",
      "text/plain": [
       "<Figure size 720x360 with 1 Axes>"
      ]
     },
     "metadata": {
      "needs_background": "light"
     },
     "output_type": "display_data"
    },
    {
     "data": {
      "image/png": "[encoded data removed]",
      "text/plain": [
       "<Figure size 720x360 with 1 Axes>"
      ]
     },
     "metadata": {
      "needs_background": "light"
     },
     "output_type": "display_data"
    }
   ],
   "source": [
    "#plot bar graphs of df_train and df_test\n",
    "import matplotlib.pyplot as plt  \n",
    "# creating the dataset \n",
    "data = df_train['Target'].value_counts()\n",
    "keys = list(data.keys()) \n",
    "values = list(data.values) \n",
    "data1 = df_test['Target'].value_counts()\n",
    "keys1 = list(data1.keys()) \n",
    "values1 = list(data1.values)    \n",
    "fig = plt.figure(figsize = (10, 5)) \n",
    "# creating the bar plot \n",
    "plt.bar(keys, values, color ='maroon',label ='Train Variables')  \n",
    "plt.xlabel(\"Training Target Labels\") \n",
    "plt.ylabel(\"Count\") \n",
    "plt.legend()\n",
    "plt.show()\n",
    "plt.figure(figsize = (10, 5)) \n",
    "plt.bar(keys1, values1, color ='black',label ='Test Variables')\n",
    "plt.xticks(keys)    \n",
    "plt.xlabel(\"Testing Target Labels\") \n",
    "plt.ylabel(\"Count\") \n",
    "plt.legend()\n",
    "plt.show()"
   ]
  },
  {
   "cell_type": "markdown",
   "metadata": {
    "id": "S3pNtosrEzro"
   },
   "source": [
    "**Label Encoding Dependent Variable**"
   ]
  },
  {
   "cell_type": "code",
   "execution_count": 11,
   "metadata": {
    "colab": {
     "base_uri": "https://localhost:8080/",
     "height": 206
    },
    "id": "APKn8ZrwE36a",
    "outputId": "78ac1c55-a25d-482f-835b-32bb6fed4214"
   },
   "outputs": [
    {
     "data": {
      "text/html": [
       "<div>\n",
       "<style scoped>\n",
       "    .dataframe tbody tr th:only-of-type {\n",
       "        vertical-align: middle;\n",
       "    }\n",
       "\n",
       "    .dataframe tbody tr th {\n",
       "        vertical-align: top;\n",
       "    }\n",
       "\n",
       "    .dataframe thead th {\n",
       "        text-align: right;\n",
       "    }\n",
       "</style>\n",
       "<table border=\"1\" class=\"dataframe\">\n",
       "  <thead>\n",
       "    <tr style=\"text-align: right;\">\n",
       "      <th></th>\n",
       "      <th>Sentence</th>\n",
       "      <th>Target</th>\n",
       "    </tr>\n",
       "  </thead>\n",
       "  <tbody>\n",
       "    <tr>\n",
       "      <th>0</th>\n",
       "      <td>Appellant had stated to the officers that she ...</td>\n",
       "      <td>3</td>\n",
       "    </tr>\n",
       "    <tr>\n",
       "      <th>1</th>\n",
       "      <td>We shall discuss the facts more fully in conne...</td>\n",
       "      <td>5</td>\n",
       "    </tr>\n",
       "    <tr>\n",
       "      <th>2</th>\n",
       "      <td>â€œPerjury is a false statement, either writte...</td>\n",
       "      <td>3</td>\n",
       "    </tr>\n",
       "    <tr>\n",
       "      <th>3</th>\n",
       "      <td>The offense is felony theft by false pretext; ...</td>\n",
       "      <td>4</td>\n",
       "    </tr>\n",
       "    <tr>\n",
       "      <th>4</th>\n",
       "      <td>Numerous contentions urging the commission of ...</td>\n",
       "      <td>4</td>\n",
       "    </tr>\n",
       "  </tbody>\n",
       "</table>\n",
       "</div>"
      ],
      "text/plain": [
       "                                            Sentence  Target\n",
       "0  Appellant had stated to the officers that she ...       3\n",
       "1  We shall discuss the facts more fully in conne...       5\n",
       "2  â€œPerjury is a false statement, either writte...       3\n",
       "3  The offense is felony theft by false pretext; ...       4\n",
       "4  Numerous contentions urging the commission of ...       4"
      ]
     },
     "execution_count": 11,
     "metadata": {},
     "output_type": "execute_result"
    }
   ],
   "source": [
    "l = LabelEncoder().fit(df_train['Target'])\n",
    "df_train['Target'] = l.transform(df_train['Target'])\n",
    "df_test['Target'] = l.transform(df_test['Target'])\n",
    "df_train.head()"
   ]
  },
  {
   "cell_type": "markdown",
   "metadata": {
    "id": "RT0DWieYEAtG"
   },
   "source": [
    "**Clean Text and no Normalization**"
   ]
  },
  {
   "cell_type": "code",
   "execution_count": 12,
   "metadata": {
    "id": "BM1ZHDKPEGyw"
   },
   "outputs": [],
   "source": [
    "df_train['Sentence'] = df_train['Sentence'].apply(clean_text, normalization=False)\n",
    "df_test['Sentence'] = df_test['Sentence'].apply(clean_text, normalization=False)"
   ]
  },
  {
   "cell_type": "markdown",
   "metadata": {
    "id": "X0Tau4q3JC0L"
   },
   "source": [
    "**Cleaned and Normalized Text**"
   ]
  },
  {
   "cell_type": "code",
   "execution_count": 13,
   "metadata": {
    "id": "IdOpZfDV0i2z"
   },
   "outputs": [],
   "source": [
    "df_train['Normalized_Sentence'] = df_train['Sentence'].apply(clean_text)\n",
    "df_test['Normalized_Sentence'] = df_test['Sentence'].apply(clean_text)"
   ]
  },
  {
   "cell_type": "markdown",
   "metadata": {
    "id": "J2Z-7OURKlST"
   },
   "source": [
    "1. Word Embedding with Tf-Idf\n",
    "2. Word Embedding with Word2Vec\n",
    "3. Word Embedding with BERT"
   ]
  },
  {
   "cell_type": "markdown",
   "metadata": {
    "id": "jhicMsTTOyW1"
   },
   "source": [
    "**Word Embedding with Tf-Idf**"
   ]
  },
  {
   "cell_type": "code",
   "execution_count": 14,
   "metadata": {
    "colab": {
     "base_uri": "https://localhost:8080/"
    },
    "id": "IJlF-r2Q06fm",
    "outputId": "32658ed3-7bab-42fa-99c5-7120c48d9ede"
   },
   "outputs": [
    {
     "data": {
      "text/plain": [
       "((30168, 500), (30168,), (7543, 500), (7543,), (521, 500), (521,))"
      ]
     },
     "execution_count": 14,
     "metadata": {},
     "output_type": "execute_result"
    }
   ],
   "source": [
    "def data2tfidf(data1,data2,pca=False):\n",
    "  t= TfidfVectorizer().fit(data1['Normalized_Sentence'])\n",
    "  x, test_x = t.transform(data1['Normalized_Sentence']).toarray(), t.transform(data2['Normalized_Sentence']).toarray()\n",
    "  y, test_y = data1['Target'], data2['Target']\n",
    "  if pca:\n",
    "    pcas = PCA(500).fit(x)\n",
    "    x, test_x = pcas.transform(x), pcas.transform(test_x)\n",
    "  train_x,val_x, train_y, val_y = train_test_split(x,y, stratify=y, test_size=0.2)\n",
    "  return train_x,train_y,val_x,val_y, test_x,test_y\n",
    "\n",
    "train_x,train_y,val_x,val_y, test_x,test_y = data2tfidf(df_train,df_test,pca=500)\n",
    "train_x.shape,train_y.shape,val_x.shape,val_y.shape, test_x.shape,test_y.shape"
   ]
  },
  {
   "cell_type": "markdown",
   "metadata": {
    "id": "-zvt6xwGQHBg"
   },
   "source": [
    "1. Logistic Regression\n",
    "2. Decision Trees\n",
    "3. Random Forests\n",
    "4. Gradient Boosting\n",
    "5. XGBoosting\n",
    "6. Light Boosting\n",
    "7. Ada Boosting\n",
    "8. Ridge Classification"
   ]
  },
  {
   "cell_type": "markdown",
   "metadata": {},
   "source": [
    "# Random Forests"
   ]
  },
  {
   "cell_type": "code",
   "execution_count": 22,
   "metadata": {},
   "outputs": [
    {
     "name": "stdout",
     "output_type": "stream",
     "text": [
      "Training Accuracy is 0.9939008220631133\n",
      "Validation Accuracy is 0.9863449555879623\n",
      "Testing Accuracy is 0.6065259117082533\n"
     ]
    }
   ],
   "source": [
    "rf= RandomForestClassifier(n_estimators = 350, criterion = 'gini', random_state = 42)\n",
    "rf.fit(train_x,train_y)\n",
    "print('Training Accuracy is',accuracy_score(train_y,rf.predict(train_x)))\n",
    "print('Validation Accuracy is',accuracy_score(val_y,rf.predict(val_x)))\n",
    "print('Testing Accuracy is',accuracy_score(test_y,rf.predict(test_x)))"
   ]
  },
  {
   "cell_type": "code",
   "execution_count": null,
   "metadata": {
    "id": "SKSIeMiTk8Qn"
   },
   "outputs": [],
   "source": [
    "parameter_grid = {'max_depth' : [4,5,6,7,9],'max_features': [0.5, 0.7, 0.9]}\n",
    "rf= RandomForestClassifier(n_estimators = 350, criterion = 'gini', random_state = 42)\n",
    "cv = KFold(n_splits=10, shuffle=True, random_state=101)\n",
    "gridsearch = GridSearchCV(estimator=rf, param_grid=parameter_grid, scoring='accuracy', cv=cv)\n",
    "gridsearch.fit(train_x,train_y)\n",
    "m = gridsearch.best_estimator_\n",
    "print(m)\n",
    "m.fit(train_x,train_y)\n",
    "print('Training Accuracy is',accuracy_score(train_y,m.predict(train_x)))\n",
    "print('Validation Accuracy is',accuracy_score(val_y,m.predict(val_x)))\n",
    "print('Testing Accuracy is',accuracy_score(test_y,m.predict(test_x)))"
   ]
  },
  {
   "cell_type": "markdown",
   "metadata": {},
   "source": [
    "# LGBoost"
   ]
  },
  {
   "cell_type": "code",
   "execution_count": 24,
   "metadata": {},
   "outputs": [
    {
     "name": "stdout",
     "output_type": "stream",
     "text": [
      "Training Accuracy is 0.989724211084593\n",
      "Validation Accuracy is 0.9798488664987406\n",
      "Testing Accuracy is 0.6257197696737045\n"
     ]
    }
   ],
   "source": [
    "params = {'n_estimators': 365, 'n_jobs': -1, 'random_state': 2, 'learning_rate': 0.014564209621859385, 'colsample_bytree': 0.48762749309989595 }\n",
    "lgbm=LGBMClassifier(**params)\n",
    "lgbm.fit(train_x,train_y)\n",
    "print('Training Accuracy is',accuracy_score(train_y,lgbm.predict(train_x)))\n",
    "print('Validation Accuracy is',accuracy_score(val_y,lgbm.predict(val_x)))\n",
    "print('Testing Accuracy is',accuracy_score(test_y,lgbm.predict(test_x)))"
   ]
  },
  {
   "cell_type": "code",
   "execution_count": null,
   "metadata": {
    "id": "v72BwokemEuZ"
   },
   "outputs": [],
   "source": [
    "parameter_grid = {'learning_rate' : [ 0.0001,0.001,0.01,0.1,1,10]}\n",
    "lgbm= LGBMClassifier(n_estimators = 365, n_jobs= -1, random_state= 2, colsample_bytree= 0.48762749309989595)\n",
    "cv = KFold(n_splits=10, shuffle=True, random_state=101)\n",
    "gridsearch = GridSearchCV(estimator=lgbm, param_grid=parameter_grid, scoring='accuracy', cv=cv)\n",
    "gridsearch.fit(train_x,train_y)\n",
    "m = gridsearch.best_estimator_\n",
    "print(m)\n",
    "m.fit(train_x,train_y)\n",
    "print('Training Accuracy is',accuracy_score(train_y,m.predict(train_x)))\n",
    "print('Validation Accuracy is',accuracy_score(val_y,m.predict(val_x)))\n",
    "print('Testing Accuracy is',accuracy_score(test_y,m.predict(test_x)))"
   ]
  },
  {
   "cell_type": "markdown",
   "metadata": {},
   "source": [
    "# XGBoost"
   ]
  },
  {
   "cell_type": "code",
   "execution_count": 23,
   "metadata": {},
   "outputs": [
    {
     "name": "stderr",
     "output_type": "stream",
     "text": [
      "C:\\Users\\LaptopCheckout\\anaconda3\\lib\\site-packages\\xgboost\\sklearn.py:1224: UserWarning: The use of label encoder in XGBClassifier is deprecated and will be removed in a future release. To remove this warning, do the following: 1) Pass option use_label_encoder=False when constructing XGBClassifier object; and 2) Encode your labels (y) as integers starting with 0, i.e. 0, 1, 2, ..., [num_class - 1].\n",
      "  warnings.warn(label_encoder_deprecation_msg, UserWarning)\n"
     ]
    },
    {
     "name": "stdout",
     "output_type": "stream",
     "text": [
      "[07:59:20] WARNING: C:/Users/Administrator/workspace/xgboost-win64_release_1.5.1/src/learner.cc:1115: Starting in XGBoost 1.3.0, the default evaluation metric used with the objective 'multi:softprob' was changed from 'merror' to 'mlogloss'. Explicitly set eval_metric if you'd like to restore the old behavior.\n",
      "Training Accuracy is 0.8269026783346592\n",
      "Validation Accuracy is 0.8047196075831897\n",
      "Testing Accuracy is 0.6199616122840691\n"
     ]
    }
   ],
   "source": [
    "xgb =  XGBClassifier(random_state=101,learning_rate=0.1, reg_alpha=0, reg_lambda=0,booster='gblinear')\n",
    "xgb.fit(train_x,train_y)\n",
    "print('Training Accuracy is',accuracy_score(train_y,xgb.predict(train_x)))\n",
    "print('Validation Accuracy is',accuracy_score(val_y,xgb.predict(val_x)))\n",
    "print('Testing Accuracy is',accuracy_score(test_y,xgb.predict(test_x)))"
   ]
  },
  {
   "cell_type": "code",
   "execution_count": null,
   "metadata": {
    "id": "jIIJRUyDnDQZ"
   },
   "outputs": [],
   "source": [
    "parameter_grid = {'learning_rate' : [ 0.0001,0.001,0.01,0.1,1,10]}\n",
    "xgb= XGBClassifier(random_state=101,learning_rate=0.1, reg_alpha=0, reg_lambda=0,booster='gblinear')\n",
    "cv = KFold(n_splits=10, shuffle=True, random_state=101)\n",
    "gridsearch = GridSearchCV(estimator=xgb, param_grid=parameter_grid, scoring='accuracy', cv=cv)\n",
    "gridsearch.fit(train_x,train_y)\n",
    "m = gridsearch.best_estimator_\n",
    "print(m)\n",
    "m.fit(train_x,train_y)\n",
    "print('Training Accuracy is',accuracy_score(train_y,m.predict(train_x)))\n",
    "print('Validation Accuracy is',accuracy_score(val_y,m.predict(val_x)))\n",
    "print('Testing Accuracy is',accuracy_score(test_y,m.predict(test_x)))"
   ]
  },
  {
   "cell_type": "markdown",
   "metadata": {},
   "source": [
    "# LinearSVC"
   ]
  },
  {
   "cell_type": "code",
   "execution_count": 26,
   "metadata": {},
   "outputs": [
    {
     "name": "stdout",
     "output_type": "stream",
     "text": [
      "Training Accuracy is 0.8419185892336251\n",
      "Validation Accuracy is 0.8215564099164788\n",
      "Testing Accuracy is 0.5834932821497121\n"
     ]
    },
    {
     "name": "stderr",
     "output_type": "stream",
     "text": [
      "C:\\Users\\LaptopCheckout\\anaconda3\\lib\\site-packages\\sklearn\\svm\\_base.py:1206: ConvergenceWarning: Liblinear failed to converge, increase the number of iterations.\n",
      "  warnings.warn(\n"
     ]
    }
   ],
   "source": [
    "lsvc= LinearSVC(C=100)\n",
    "lsvc.fit(train_x,train_y)\n",
    "print('Training Accuracy is',accuracy_score(train_y,lsvc.predict(train_x)))\n",
    "print('Validation Accuracy is',accuracy_score(val_y,lsvc.predict(val_x)))\n",
    "print('Testing Accuracy is',accuracy_score(test_y,lsvc.predict(test_x)))"
   ]
  },
  {
   "cell_type": "code",
   "execution_count": null,
   "metadata": {},
   "outputs": [],
   "source": [
    "parameter_grid = {'penalty':['l1', 'l2'],'loss':['hinge', 'squared_hinge'],'multi_class':['ovr', 'crammer_singer']\n",
    "                 ,'C':[1,10,100]}\n",
    "lsvc= LinearSVC()\n",
    "cv = KFold(n_splits=10, shuffle=True, random_state=101)\n",
    "gridsearch = GridSearchCV(estimator=lsvc, param_grid=parameter_grid, scoring='accuracy', cv=cv)\n",
    "gridsearch.fit(train_x,train_y)\n",
    "m = gridsearch.best_estimator_\n",
    "print(m)\n",
    "m.fit(train_x,train_y)\n",
    "print('Training Accuracy is',accuracy_score(train_y,m.predict(train_x)))\n",
    "print('Validation Accuracy is',accuracy_score(val_y,m.predict(val_x)))\n",
    "print('Testing Accuracy is',accuracy_score(test_y,m.predict(test_x)))"
   ]
  },
  {
   "cell_type": "code",
   "execution_count": null,
   "metadata": {},
   "outputs": [],
   "source": [
    "lsvc= LinearSVC()\n",
    "cv = KFold(n_splits=10, shuffle=True, random_state=101)\n",
    "m = cross_val_score(lsvc, train_x,train_y,scoring='accuracy', cv=cv, n_jobs=-1)\n",
    "m"
   ]
  },
  {
   "cell_type": "code",
   "execution_count": 29,
   "metadata": {
    "colab": {
     "base_uri": "https://localhost:8080/",
     "height": 351
    },
    "id": "_J5nB2ETQfUD",
    "outputId": "723a3bdf-3a73-449c-980e-69996345d611"
   },
   "outputs": [
    {
     "name": "stderr",
     "output_type": "stream",
     "text": [
      "  0%|                                                                                            | 0/3 [00:00<?, ?it/s]C:\\Users\\LaptopCheckout\\anaconda3\\lib\\site-packages\\sklearn\\linear_model\\_logistic.py:814: ConvergenceWarning: lbfgs failed to converge (status=1):\n",
      "STOP: TOTAL NO. of ITERATIONS REACHED LIMIT.\n",
      "\n",
      "Increase the number of iterations (max_iter) or scale the data as shown in:\n",
      "    https://scikit-learn.org/stable/modules/preprocessing.html\n",
      "Please also refer to the documentation for alternative solver options:\n",
      "    https://scikit-learn.org/stable/modules/linear_model.html#logistic-regression\n",
      "  n_iter_i = _check_optimize_result(\n",
      "100%|████████████████████████████████████████████████████████████████████████████████████| 3/3 [00:35<00:00, 11.75s/it]\n"
     ]
    }
   ],
   "source": [
    "def get_models(a=0,b=None):\n",
    "    models = [LogisticRegression(),RidgeClassifier(),DecisionTreeClassifier(),RandomForestClassifier(),BaggingClassifier(),\n",
    "              GradientBoostingClassifier(),XGBClassifier(),LGBMClassifier(),AdaBoostClassifier(),ExtraTreeClassifier(),ExtraTreesClassifier(),\n",
    "              KNeighborsClassifier(),LinearSVC(),SVC(),SGDClassifier(),GaussianNB(),GaussianProcessClassifier(),\n",
    "              LinearDiscriminantAnalysis(),QuadraticDiscriminantAnalysis(),PassiveAggressiveClassifier()]\n",
    "    train_accuracy,val_accuracy,test_accuracy = [], [], []\n",
    "    if not b:\n",
    "      b=len(models)\n",
    "    l = models[a:b]\n",
    "    for m in tqdm(l):\n",
    "        m.fit(train_x, train_y)\n",
    "        train_accuracy.append(accuracy_score(train_y,m.predict(train_x)))\n",
    "        val_accuracy.append(accuracy_score(val_y,m.predict(val_x)))\n",
    "        test_accuracy.append(accuracy_score(test_y,m.predict(test_x)))\n",
    "    data = pd.DataFrame({'Model':[str(i)[:-2] for i in l],'Training Accuracy':train_accuracy,'Validation Accuracy':val_accuracy,\n",
    "                        'Testing Accuracy':test_accuracy})\n",
    "    return data\n",
    "data1=get_models(0,3)"
   ]
  },
  {
   "cell_type": "code",
   "execution_count": 30,
   "metadata": {
    "id": "QnnvBXxMebHh"
   },
   "outputs": [
    {
     "name": "stderr",
     "output_type": "stream",
     "text": [
      "100%|████████████████████████████████████████████████████████████████████████████████████| 4/4 [00:07<00:00,  1.96s/it]\n",
      "C:\\Users\\LaptopCheckout\\AppData\\Local\\Temp\\ipykernel_21668\\2573618633.py:10: FutureWarning: The frame.append method is deprecated and will be removed from pandas in a future version. Use pandas.concat instead.\n",
      "  data.append(data1)\n"
     ]
    },
    {
     "data": {
      "text/html": [
       "<div>\n",
       "<style scoped>\n",
       "    .dataframe tbody tr th:only-of-type {\n",
       "        vertical-align: middle;\n",
       "    }\n",
       "\n",
       "    .dataframe tbody tr th {\n",
       "        vertical-align: top;\n",
       "    }\n",
       "\n",
       "    .dataframe thead th {\n",
       "        text-align: right;\n",
       "    }\n",
       "</style>\n",
       "<table border=\"1\" class=\"dataframe\">\n",
       "  <thead>\n",
       "    <tr style=\"text-align: right;\">\n",
       "      <th></th>\n",
       "      <th>Model</th>\n",
       "      <th>Training Accuracy</th>\n",
       "      <th>Validation Accuracy</th>\n",
       "      <th>Testing Accuracy</th>\n",
       "    </tr>\n",
       "  </thead>\n",
       "  <tbody>\n",
       "    <tr>\n",
       "      <th>0</th>\n",
       "      <td>RandomForestClassifier</td>\n",
       "      <td>0.993901</td>\n",
       "      <td>0.986345</td>\n",
       "      <td>0.606526</td>\n",
       "    </tr>\n",
       "    <tr>\n",
       "      <th>1</th>\n",
       "      <td>XGBoostClassifier</td>\n",
       "      <td>0.826903</td>\n",
       "      <td>0.804720</td>\n",
       "      <td>0.619962</td>\n",
       "    </tr>\n",
       "    <tr>\n",
       "      <th>2</th>\n",
       "      <td>LightGBM</td>\n",
       "      <td>0.989724</td>\n",
       "      <td>0.979849</td>\n",
       "      <td>0.625720</td>\n",
       "    </tr>\n",
       "    <tr>\n",
       "      <th>3</th>\n",
       "      <td>LinearSVC(C=100)</td>\n",
       "      <td>0.841919</td>\n",
       "      <td>0.821556</td>\n",
       "      <td>0.583493</td>\n",
       "    </tr>\n",
       "    <tr>\n",
       "      <th>0</th>\n",
       "      <td>LogisticRegression</td>\n",
       "      <td>0.782650</td>\n",
       "      <td>0.766671</td>\n",
       "      <td>0.648752</td>\n",
       "    </tr>\n",
       "    <tr>\n",
       "      <th>1</th>\n",
       "      <td>RidgeClassifier</td>\n",
       "      <td>0.741382</td>\n",
       "      <td>0.728490</td>\n",
       "      <td>0.625720</td>\n",
       "    </tr>\n",
       "    <tr>\n",
       "      <th>2</th>\n",
       "      <td>DecisionTreeClassifier</td>\n",
       "      <td>0.993967</td>\n",
       "      <td>0.985550</td>\n",
       "      <td>0.477927</td>\n",
       "    </tr>\n",
       "  </tbody>\n",
       "</table>\n",
       "</div>"
      ],
      "text/plain": [
       "                    Model  Training Accuracy  Validation Accuracy  \\\n",
       "0  RandomForestClassifier           0.993901             0.986345   \n",
       "1       XGBoostClassifier           0.826903             0.804720   \n",
       "2                LightGBM           0.989724             0.979849   \n",
       "3        LinearSVC(C=100)           0.841919             0.821556   \n",
       "0      LogisticRegression           0.782650             0.766671   \n",
       "1         RidgeClassifier           0.741382             0.728490   \n",
       "2  DecisionTreeClassifier           0.993967             0.985550   \n",
       "\n",
       "   Testing Accuracy  \n",
       "0          0.606526  \n",
       "1          0.619962  \n",
       "2          0.625720  \n",
       "3          0.583493  \n",
       "0          0.648752  \n",
       "1          0.625720  \n",
       "2          0.477927  "
      ]
     },
     "execution_count": 30,
     "metadata": {},
     "output_type": "execute_result"
    }
   ],
   "source": [
    "model_dict = {'RandomForestClassifier':rf,'XGBoostClassifier':xgb,'LightGBM':lgbm,'LinearSVC(C=100)':lsvc}\n",
    "train_accuracy,val_accuracy,test_accuracy = [], [], []\n",
    "for mn,m in tqdm(model_dict.items()):\n",
    "        train_accuracy.append(accuracy_score(train_y,m.predict(train_x)))\n",
    "        val_accuracy.append(accuracy_score(val_y,m.predict(val_x)))\n",
    "        test_accuracy.append(accuracy_score(test_y,m.predict(test_x)))\n",
    "data = pd.DataFrame({'Model':[str(mn) for mn in model_dict.keys()],'Training Accuracy':train_accuracy,'Validation Accuracy':val_accuracy,\n",
    "                        'Testing Accuracy':test_accuracy})\n",
    "\n",
    "data.append(data1)"
   ]
  },
  {
   "cell_type": "markdown",
   "metadata": {
    "id": "arU5AXItZLiJ"
   },
   "source": [
    "Due to Time Constraints, we only perform Cross Validation and Hyper Parameter Tuning for ML Models having higher accuracies, generalised from the above report"
   ]
  },
  {
   "cell_type": "code",
   "execution_count": null,
   "metadata": {},
   "outputs": [],
   "source": []
  },
  {
   "cell_type": "markdown",
   "metadata": {
    "id": "NqNlKogDZzWt"
   },
   "source": [
    "# Neural Networks"
   ]
  },
  {
   "cell_type": "code",
   "execution_count": 31,
   "metadata": {},
   "outputs": [
    {
     "name": "stdout",
     "output_type": "stream",
     "text": [
      "Model: \"sequential\"\n",
      "_________________________________________________________________\n",
      " Layer (type)                Output Shape              Param #   \n",
      "=================================================================\n",
      " dense (Dense)               (30168, 500)              250500    \n",
      "                                                                 \n",
      " dropout (Dropout)           (30168, 500)              0         \n",
      "                                                                 \n",
      " dense_1 (Dense)             (30168, 250)              125250    \n",
      "                                                                 \n",
      " dropout_1 (Dropout)         (30168, 250)              0         \n",
      "                                                                 \n",
      " dense_2 (Dense)             (30168, 6)                1506      \n",
      "                                                                 \n",
      " dropout_2 (Dropout)         (30168, 6)                0         \n",
      "                                                                 \n",
      " dense_3 (Dense)             (30168, 7)                49        \n",
      "                                                                 \n",
      "=================================================================\n",
      "Total params: 377,305\n",
      "Trainable params: 377,305\n",
      "Non-trainable params: 0\n",
      "_________________________________________________________________\n",
      "Epoch 1/10\n",
      "604/604 [==============================] - 4s 6ms/step - loss: 1.0337 - accuracy: 0.6576 - val_loss: 0.6768 - val_accuracy: 0.7673 - lr: 0.0010\n",
      "Epoch 2/10\n",
      "604/604 [==============================] - 3s 6ms/step - loss: 0.6202 - accuracy: 0.7934 - val_loss: 0.4157 - val_accuracy: 0.8710 - lr: 0.0010\n",
      "Epoch 3/10\n",
      "604/604 [==============================] - 3s 6ms/step - loss: 0.4223 - accuracy: 0.8642 - val_loss: 0.2692 - val_accuracy: 0.9255 - lr: 0.0010\n",
      "Epoch 4/10\n",
      "604/604 [==============================] - 4s 7ms/step - loss: 0.3167 - accuracy: 0.8980 - val_loss: 0.2041 - val_accuracy: 0.9431 - lr: 0.0010\n",
      "Epoch 5/10\n",
      "604/604 [==============================] - 4s 6ms/step - loss: 0.2484 - accuracy: 0.9212 - val_loss: 0.1401 - val_accuracy: 0.9620 - lr: 0.0010\n",
      "Epoch 6/10\n",
      "604/604 [==============================] - 4s 7ms/step - loss: 0.2104 - accuracy: 0.9327 - val_loss: 0.1277 - val_accuracy: 0.9650 - lr: 0.0010\n",
      "Epoch 7/10\n",
      "604/604 [==============================] - 4s 7ms/step - loss: 0.1838 - accuracy: 0.9403 - val_loss: 0.1131 - val_accuracy: 0.9692 - lr: 0.0010\n",
      "Epoch 8/10\n",
      "604/604 [==============================] - 4s 6ms/step - loss: 0.1615 - accuracy: 0.9477 - val_loss: 0.1050 - val_accuracy: 0.9688 - lr: 0.0010\n",
      "Epoch 9/10\n",
      "604/604 [==============================] - 4s 6ms/step - loss: 0.1522 - accuracy: 0.9504 - val_loss: 0.1045 - val_accuracy: 0.9714 - lr: 0.0010\n",
      "Epoch 10/10\n",
      "604/604 [==============================] - 4s 7ms/step - loss: 0.1425 - accuracy: 0.9547 - val_loss: 0.1074 - val_accuracy: 0.9708 - lr: 0.0010\n"
     ]
    }
   ],
   "source": [
    "def f1_metric(y_true, y_pred):\n",
    "    true_positives = K.sum(K.round(K.clip(y_true * y_pred, 0, 1)))\n",
    "    possible_positives = K.sum(K.round(K.clip(y_true, 0, 1)))\n",
    "    predicted_positives = K.sum(K.round(K.clip(y_pred, 0, 1)))\n",
    "    precision = true_positives / (predicted_positives + K.epsilon())\n",
    "    recall = true_positives / (possible_positives + K.epsilon())\n",
    "    f1_val = 2*(precision*recall)/(precision+recall+K.epsilon())\n",
    "    return f1_val\n",
    "model = tf.keras.Sequential([\n",
    "    layers.Dense(500,activation=tf.keras.layers.LeakyReLU()),\n",
    "    layers.Dropout(0.2),\n",
    "    layers.Dense(250,activation=tf.keras.layers.LeakyReLU()),\n",
    "    layers.Dropout(0.2),\n",
    "    layers.Dense(6,activation=tf.keras.layers.LeakyReLU()),\n",
    "    layers.Dropout(0.2),\n",
    "    layers.Dense(7,activation='softmax')])\n",
    "model.compile(loss='sparse_categorical_crossentropy', optimizer=\"adam\", metrics=['accuracy'])\n",
    "model.build((train_x.shape[0], 500))\n",
    "model.summary()\n",
    "epochs = 10\n",
    "callbacks=[ReduceLROnPlateau()]\n",
    "history = model.fit(train_x,train_y,epochs=10,batch_size=50,callbacks=callbacks, validation_data=(val_x,val_y),shuffle=True)"
   ]
  },
  {
   "cell_type": "code",
   "execution_count": 32,
   "metadata": {},
   "outputs": [
    {
     "name": "stdout",
     "output_type": "stream",
     "text": [
      "17/17 [==============================] - 0s 3ms/step - loss: 2.9338 - accuracy: 0.6430\n"
     ]
    },
    {
     "data": {
      "text/plain": [
       "[2.933814287185669, 0.642994225025177]"
      ]
     },
     "execution_count": 32,
     "metadata": {},
     "output_type": "execute_result"
    }
   ],
   "source": [
    "model.evaluate(test_x,test_y)"
   ]
  },
  {
   "cell_type": "code",
   "execution_count": 33,
   "metadata": {},
   "outputs": [
    {
     "name": "stderr",
     "output_type": "stream",
     "text": [
      "C:\\Users\\LaptopCheckout\\AppData\\Local\\Temp\\ipykernel_21668\\895577368.py:3: FutureWarning: The frame.append method is deprecated and will be removed from pandas in a future version. Use pandas.concat instead.\n",
      "  data2=data.append(data1)\n",
      "C:\\Users\\LaptopCheckout\\AppData\\Local\\Temp\\ipykernel_21668\\895577368.py:4: FutureWarning: The frame.append method is deprecated and will be removed from pandas in a future version. Use pandas.concat instead.\n",
      "  data4=data2.append(data3)\n"
     ]
    },
    {
     "data": {
      "text/html": [
       "<div>\n",
       "<style scoped>\n",
       "    .dataframe tbody tr th:only-of-type {\n",
       "        vertical-align: middle;\n",
       "    }\n",
       "\n",
       "    .dataframe tbody tr th {\n",
       "        vertical-align: top;\n",
       "    }\n",
       "\n",
       "    .dataframe thead th {\n",
       "        text-align: right;\n",
       "    }\n",
       "</style>\n",
       "<table border=\"1\" class=\"dataframe\">\n",
       "  <thead>\n",
       "    <tr style=\"text-align: right;\">\n",
       "      <th></th>\n",
       "      <th>Model</th>\n",
       "      <th>Training Accuracy</th>\n",
       "      <th>Validation Accuracy</th>\n",
       "      <th>Testing Accuracy</th>\n",
       "    </tr>\n",
       "  </thead>\n",
       "  <tbody>\n",
       "    <tr>\n",
       "      <th>0</th>\n",
       "      <td>RandomForestClassifier</td>\n",
       "      <td>0.993901</td>\n",
       "      <td>0.986345</td>\n",
       "      <td>0.606526</td>\n",
       "    </tr>\n",
       "    <tr>\n",
       "      <th>1</th>\n",
       "      <td>XGBoostClassifier</td>\n",
       "      <td>0.826903</td>\n",
       "      <td>0.804720</td>\n",
       "      <td>0.619962</td>\n",
       "    </tr>\n",
       "    <tr>\n",
       "      <th>2</th>\n",
       "      <td>LightGBM</td>\n",
       "      <td>0.989724</td>\n",
       "      <td>0.979849</td>\n",
       "      <td>0.625720</td>\n",
       "    </tr>\n",
       "    <tr>\n",
       "      <th>3</th>\n",
       "      <td>LinearSVC(C=100)</td>\n",
       "      <td>0.841919</td>\n",
       "      <td>0.821556</td>\n",
       "      <td>0.583493</td>\n",
       "    </tr>\n",
       "    <tr>\n",
       "      <th>0</th>\n",
       "      <td>LogisticRegression</td>\n",
       "      <td>0.782650</td>\n",
       "      <td>0.766671</td>\n",
       "      <td>0.648752</td>\n",
       "    </tr>\n",
       "    <tr>\n",
       "      <th>1</th>\n",
       "      <td>RidgeClassifier</td>\n",
       "      <td>0.741382</td>\n",
       "      <td>0.728490</td>\n",
       "      <td>0.625720</td>\n",
       "    </tr>\n",
       "    <tr>\n",
       "      <th>2</th>\n",
       "      <td>DecisionTreeClassifier</td>\n",
       "      <td>0.993967</td>\n",
       "      <td>0.985550</td>\n",
       "      <td>0.477927</td>\n",
       "    </tr>\n",
       "    <tr>\n",
       "      <th>0</th>\n",
       "      <td>Neural Networks (Epoch=10)</td>\n",
       "      <td>0.954700</td>\n",
       "      <td>0.970800</td>\n",
       "      <td>0.642900</td>\n",
       "    </tr>\n",
       "  </tbody>\n",
       "</table>\n",
       "</div>"
      ],
      "text/plain": [
       "                        Model  Training Accuracy  Validation Accuracy  \\\n",
       "0      RandomForestClassifier           0.993901             0.986345   \n",
       "1           XGBoostClassifier           0.826903             0.804720   \n",
       "2                    LightGBM           0.989724             0.979849   \n",
       "3            LinearSVC(C=100)           0.841919             0.821556   \n",
       "0          LogisticRegression           0.782650             0.766671   \n",
       "1             RidgeClassifier           0.741382             0.728490   \n",
       "2      DecisionTreeClassifier           0.993967             0.985550   \n",
       "0  Neural Networks (Epoch=10)           0.954700             0.970800   \n",
       "\n",
       "   Testing Accuracy  \n",
       "0          0.606526  \n",
       "1          0.619962  \n",
       "2          0.625720  \n",
       "3          0.583493  \n",
       "0          0.648752  \n",
       "1          0.625720  \n",
       "2          0.477927  \n",
       "0          0.642900  "
      ]
     },
     "execution_count": 33,
     "metadata": {},
     "output_type": "execute_result"
    }
   ],
   "source": [
    "data3 = pd.DataFrame({'Model':['Neural Networks (Epoch=10)'],'Training Accuracy':[0.9547],'Validation Accuracy':[0.9708],\n",
    "                        'Testing Accuracy':[0.6429]})\n",
    "data2=data.append(data1)\n",
    "data4=data2.append(data3)\n",
    "data4"
   ]
  },
  {
   "cell_type": "markdown",
   "metadata": {
    "id": "l-yr1Mv51ruz"
   },
   "source": [
    "**Random Forest**"
   ]
  },
  {
   "cell_type": "code",
   "execution_count": null,
   "metadata": {
    "colab": {
     "base_uri": "https://localhost:8080/"
    },
    "id": "e2he4HGc-VMH",
    "outputId": "c4933f5d-f8d7-4504-d521-0af830e99a47"
   },
   "outputs": [
    {
     "data": {
      "text/plain": [
       "RandomForestClassifier(n_estimators=350, random_state=42)"
      ]
     },
     "execution_count": 12,
     "metadata": {},
     "output_type": "execute_result"
    }
   ],
   "source": [
    "rf= RandomForestClassifier(n_estimators = 350, criterion = 'gini', max_features = 'auto', random_state = 42)\n",
    "rf.fit(train_x,train_y)"
   ]
  },
  {
   "cell_type": "code",
   "execution_count": null,
   "metadata": {
    "colab": {
     "base_uri": "https://localhost:8080/"
    },
    "id": "ItWU9SG3-eAu",
    "outputId": "9ba4d630-9f49-4f9a-efbc-606d14199235"
   },
   "outputs": [
    {
     "data": {
      "text/plain": [
       "0.6122840690978887"
      ]
     },
     "execution_count": 13,
     "metadata": {},
     "output_type": "execute_result"
    }
   ],
   "source": [
    "accuracy_score(test_y,rf.predict(test_x))"
   ]
  },
  {
   "cell_type": "markdown",
   "metadata": {
    "id": "ciah2qD0P0SZ"
   },
   "source": [
    "**XGBoost**"
   ]
  },
  {
   "cell_type": "code",
   "execution_count": null,
   "metadata": {
    "colab": {
     "base_uri": "https://localhost:8080/"
    },
    "id": "VtEtWSY8P2sx",
    "outputId": "5bd7ced1-b4f5-4a49-eb31-c4c18dbc7760"
   },
   "outputs": [
    {
     "data": {
      "text/plain": [
       "XGBClassifier(booster='gblinear', objective='multi:softprob', random_state=101,\n",
       "              reg_lambda=0)"
      ]
     },
     "execution_count": 14,
     "metadata": {},
     "output_type": "execute_result"
    }
   ],
   "source": [
    "xgb =  XGBClassifier(random_state=101,learning_rate=0.1, reg_alpha=0, reg_lambda=0,booster='gblinear')\n",
    "xgb.fit(train_x,train_y)"
   ]
  },
  {
   "cell_type": "code",
   "execution_count": null,
   "metadata": {
    "colab": {
     "base_uri": "https://localhost:8080/"
    },
    "id": "nXaU0h8zSmO6",
    "outputId": "9274725b-bcae-4d4b-9f88-929808e70607"
   },
   "outputs": [
    {
     "data": {
      "text/plain": [
       "0.6276391554702495"
      ]
     },
     "execution_count": 38,
     "metadata": {},
     "output_type": "execute_result"
    }
   ],
   "source": [
    "accuracy_score(test_y,xgb.predict(test_x))"
   ]
  },
  {
   "cell_type": "code",
   "execution_count": null,
   "metadata": {
    "colab": {
     "base_uri": "https://localhost:8080/"
    },
    "id": "HGbGybiHRw9r",
    "outputId": "d00d3b43-5b5d-41f5-e1de-6042b165a497"
   },
   "outputs": [
    {
     "name": "stderr",
     "output_type": "stream",
     "text": [
      "/usr/local/lib/python3.7/dist-packages/sklearn/linear_model/_logistic.py:818: ConvergenceWarning: lbfgs failed to converge (status=1):\n",
      "STOP: TOTAL NO. of ITERATIONS REACHED LIMIT.\n",
      "\n",
      "Increase the number of iterations (max_iter) or scale the data as shown in:\n",
      "    https://scikit-learn.org/stable/modules/preprocessing.html\n",
      "Please also refer to the documentation for alternative solver options:\n",
      "    https://scikit-learn.org/stable/modules/linear_model.html#logistic-regression\n",
      "  extra_warning_msg=_LOGISTIC_SOLVER_CONVERGENCE_MSG,\n",
      "/usr/local/lib/python3.7/dist-packages/sklearn/linear_model/_logistic.py:818: ConvergenceWarning: lbfgs failed to converge (status=1):\n",
      "STOP: TOTAL NO. of ITERATIONS REACHED LIMIT.\n",
      "\n",
      "Increase the number of iterations (max_iter) or scale the data as shown in:\n",
      "    https://scikit-learn.org/stable/modules/preprocessing.html\n",
      "Please also refer to the documentation for alternative solver options:\n",
      "    https://scikit-learn.org/stable/modules/linear_model.html#logistic-regression\n",
      "  extra_warning_msg=_LOGISTIC_SOLVER_CONVERGENCE_MSG,\n",
      "/usr/local/lib/python3.7/dist-packages/sklearn/linear_model/_logistic.py:818: ConvergenceWarning: lbfgs failed to converge (status=1):\n",
      "STOP: TOTAL NO. of ITERATIONS REACHED LIMIT.\n",
      "\n",
      "Increase the number of iterations (max_iter) or scale the data as shown in:\n",
      "    https://scikit-learn.org/stable/modules/preprocessing.html\n",
      "Please also refer to the documentation for alternative solver options:\n",
      "    https://scikit-learn.org/stable/modules/linear_model.html#logistic-regression\n",
      "  extra_warning_msg=_LOGISTIC_SOLVER_CONVERGENCE_MSG,\n",
      "/usr/local/lib/python3.7/dist-packages/sklearn/linear_model/_logistic.py:818: ConvergenceWarning: lbfgs failed to converge (status=1):\n",
      "STOP: TOTAL NO. of ITERATIONS REACHED LIMIT.\n",
      "\n",
      "Increase the number of iterations (max_iter) or scale the data as shown in:\n",
      "    https://scikit-learn.org/stable/modules/preprocessing.html\n",
      "Please also refer to the documentation for alternative solver options:\n",
      "    https://scikit-learn.org/stable/modules/linear_model.html#logistic-regression\n",
      "  extra_warning_msg=_LOGISTIC_SOLVER_CONVERGENCE_MSG,\n",
      "/usr/local/lib/python3.7/dist-packages/sklearn/linear_model/_logistic.py:818: ConvergenceWarning: lbfgs failed to converge (status=1):\n",
      "STOP: TOTAL NO. of ITERATIONS REACHED LIMIT.\n",
      "\n",
      "Increase the number of iterations (max_iter) or scale the data as shown in:\n",
      "    https://scikit-learn.org/stable/modules/preprocessing.html\n",
      "Please also refer to the documentation for alternative solver options:\n",
      "    https://scikit-learn.org/stable/modules/linear_model.html#logistic-regression\n",
      "  extra_warning_msg=_LOGISTIC_SOLVER_CONVERGENCE_MSG,\n",
      "/usr/local/lib/python3.7/dist-packages/sklearn/linear_model/_logistic.py:818: ConvergenceWarning: lbfgs failed to converge (status=1):\n",
      "STOP: TOTAL NO. of ITERATIONS REACHED LIMIT.\n",
      "\n",
      "Increase the number of iterations (max_iter) or scale the data as shown in:\n",
      "    https://scikit-learn.org/stable/modules/preprocessing.html\n",
      "Please also refer to the documentation for alternative solver options:\n",
      "    https://scikit-learn.org/stable/modules/linear_model.html#logistic-regression\n",
      "  extra_warning_msg=_LOGISTIC_SOLVER_CONVERGENCE_MSG,\n"
     ]
    },
    {
     "data": {
      "text/plain": [
       "0.6046065259117083"
      ]
     },
     "execution_count": 39,
     "metadata": {},
     "output_type": "execute_result"
    }
   ],
   "source": [
    "from  sklearn import linear_model\n",
    "clf = linear_model.LogisticRegressionCV()\n",
    "clf.fit(train_x,train_y)\n",
    "accuracy_score(test_y,clf.predict(test_x))"
   ]
  },
  {
   "cell_type": "code",
   "execution_count": null,
   "metadata": {
    "colab": {
     "base_uri": "https://localhost:8080/"
    },
    "id": "LZD0fcPwQLhY",
    "outputId": "1934b753-84e3-4750-d26d-435a11721370"
   },
   "outputs": [
    {
     "data": {
      "text/plain": [
       "0.8296870856536728"
      ]
     },
     "execution_count": 17,
     "metadata": {},
     "output_type": "execute_result"
    }
   ],
   "source": [
    "accuracy_score(train_y,xgb.predict(train_x))"
   ]
  },
  {
   "cell_type": "markdown",
   "metadata": {
    "id": "0CViT-lQRRta"
   },
   "source": [
    "**XGB + Logistic**"
   ]
  },
  {
   "cell_type": "code",
   "execution_count": null,
   "metadata": {
    "colab": {
     "base_uri": "https://localhost:8080/"
    },
    "id": "8vS8cjHWRQ1d",
    "outputId": "2fbbe168-796f-4593-97e8-65436f91b407"
   },
   "outputs": [
    {
     "name": "stderr",
     "output_type": "stream",
     "text": [
      "/usr/local/lib/python3.7/dist-packages/sklearn/linear_model/_logistic.py:818: ConvergenceWarning: lbfgs failed to converge (status=1):\n",
      "STOP: TOTAL NO. of ITERATIONS REACHED LIMIT.\n",
      "\n",
      "Increase the number of iterations (max_iter) or scale the data as shown in:\n",
      "    https://scikit-learn.org/stable/modules/preprocessing.html\n",
      "Please also refer to the documentation for alternative solver options:\n",
      "    https://scikit-learn.org/stable/modules/linear_model.html#logistic-regression\n",
      "  extra_warning_msg=_LOGISTIC_SOLVER_CONVERGENCE_MSG,\n"
     ]
    },
    {
     "data": {
      "text/plain": [
       "0.6487523992322457"
      ]
     },
     "execution_count": 10,
     "metadata": {},
     "output_type": "execute_result"
    }
   ],
   "source": [
    "from sklearn.linear_model import LogisticRegression as LR , ElasticNetCV as EC, RidgeClassifier as RC, Lasso\n",
    "from sklearn.metrics import roc_auc_score as roc ,roc_curve, auc\n",
    "lr =LR()\n",
    "lr.fit(train_x,train_y)\n",
    "las ,rdge = Lasso(), RC()\n",
    "las.fit(train_x,train_y)\n",
    "rdge.fit(train_x,train_y)\n",
    "accuracy_score(test_y,lr.predict(test_x))\n",
    "#accuracy_score(test_y,las.predict(test_x))\n",
    "accuracy_score(test_y,rdge.predict(test_x))"
   ]
  },
  {
   "cell_type": "markdown",
   "metadata": {
    "id": "TWzZuuoJfrqf"
   },
   "source": [
    "**Finding Optimal K value for K-Fold Cross Validation, we chose k=10**"
   ]
  },
  {
   "cell_type": "code",
   "execution_count": null,
   "metadata": {
    "colab": {
     "base_uri": "https://localhost:8080/",
     "height": 1000
    },
    "id": "ocL1EDt8Z1Gs",
    "outputId": "30b9a3f0-9491-4bbe-e08e-4e2bbe1b6fc5"
   },
   "outputs": [
    {
     "name": "stderr",
     "output_type": "stream",
     "text": [
      "  3%|▎         | 1/29 [00:36<17:04, 36.57s/it]"
     ]
    },
    {
     "name": "stdout",
     "output_type": "stream",
     "text": [
      "> folds=2, accuracy=0.750 (0.748,0.752)\n"
     ]
    },
    {
     "name": "stderr",
     "output_type": "stream",
     "text": [
      "  7%|▋         | 2/29 [01:14<16:49, 37.40s/it]"
     ]
    },
    {
     "name": "stdout",
     "output_type": "stream",
     "text": [
      "> folds=3, accuracy=0.763 (0.757,0.769)\n"
     ]
    },
    {
     "name": "stderr",
     "output_type": "stream",
     "text": [
      " 10%|█         | 3/29 [01:50<15:53, 36.67s/it]"
     ]
    },
    {
     "name": "stdout",
     "output_type": "stream",
     "text": [
      "> folds=4, accuracy=0.764 (0.759,0.772)\n"
     ]
    },
    {
     "name": "stderr",
     "output_type": "stream",
     "text": [
      " 14%|█▍        | 4/29 [02:39<17:21, 41.66s/it]"
     ]
    },
    {
     "name": "stdout",
     "output_type": "stream",
     "text": [
      "> folds=5, accuracy=0.767 (0.759,0.777)\n"
     ]
    },
    {
     "name": "stderr",
     "output_type": "stream",
     "text": [
      " 17%|█▋        | 5/29 [03:41<19:32, 48.87s/it]"
     ]
    },
    {
     "name": "stdout",
     "output_type": "stream",
     "text": [
      "> folds=6, accuracy=0.769 (0.758,0.776)\n"
     ]
    },
    {
     "name": "stderr",
     "output_type": "stream",
     "text": [
      " 21%|██        | 6/29 [04:55<22:00, 57.41s/it]"
     ]
    },
    {
     "name": "stdout",
     "output_type": "stream",
     "text": [
      "> folds=7, accuracy=0.769 (0.764,0.775)\n"
     ]
    },
    {
     "name": "stderr",
     "output_type": "stream",
     "text": [
      " 24%|██▍       | 7/29 [06:20<24:19, 66.34s/it]"
     ]
    },
    {
     "name": "stdout",
     "output_type": "stream",
     "text": [
      "> folds=8, accuracy=0.770 (0.760,0.780)\n"
     ]
    },
    {
     "name": "stderr",
     "output_type": "stream",
     "text": [
      " 28%|██▊       | 8/29 [08:01<27:06, 77.44s/it]"
     ]
    },
    {
     "name": "stdout",
     "output_type": "stream",
     "text": [
      "> folds=9, accuracy=0.770 (0.761,0.781)\n"
     ]
    },
    {
     "name": "stderr",
     "output_type": "stream",
     "text": [
      " 31%|███       | 9/29 [09:55<29:41, 89.08s/it]"
     ]
    },
    {
     "name": "stdout",
     "output_type": "stream",
     "text": [
      "> folds=10, accuracy=0.770 (0.759,0.784)\n"
     ]
    },
    {
     "name": "stderr",
     "output_type": "stream",
     "text": [
      " 34%|███▍      | 10/29 [11:49<30:35, 96.59s/it]"
     ]
    },
    {
     "name": "stdout",
     "output_type": "stream",
     "text": [
      "> folds=11, accuracy=0.771 (0.760,0.785)\n"
     ]
    },
    {
     "name": "stderr",
     "output_type": "stream",
     "text": [
      " 38%|███▊      | 11/29 [13:48<31:01, 103.42s/it]"
     ]
    },
    {
     "name": "stdout",
     "output_type": "stream",
     "text": [
      "> folds=12, accuracy=0.771 (0.756,0.785)\n"
     ]
    },
    {
     "name": "stderr",
     "output_type": "stream",
     "text": [
      " 41%|████▏     | 12/29 [15:59<31:39, 111.75s/it]"
     ]
    },
    {
     "name": "stdout",
     "output_type": "stream",
     "text": [
      "> folds=13, accuracy=0.773 (0.760,0.788)\n"
     ]
    },
    {
     "name": "stderr",
     "output_type": "stream",
     "text": [
      " 45%|████▍     | 13/29 [18:25<32:36, 122.30s/it]"
     ]
    },
    {
     "name": "stdout",
     "output_type": "stream",
     "text": [
      "> folds=14, accuracy=0.772 (0.760,0.784)\n"
     ]
    },
    {
     "name": "stderr",
     "output_type": "stream",
     "text": [
      " 48%|████▊     | 14/29 [21:09<33:44, 134.96s/it]"
     ]
    },
    {
     "name": "stdout",
     "output_type": "stream",
     "text": [
      "> folds=15, accuracy=0.772 (0.757,0.790)\n"
     ]
    },
    {
     "name": "stderr",
     "output_type": "stream",
     "text": [
      " 52%|█████▏    | 15/29 [23:59<33:54, 145.31s/it]"
     ]
    },
    {
     "name": "stdout",
     "output_type": "stream",
     "text": [
      "> folds=16, accuracy=0.773 (0.754,0.792)\n"
     ]
    },
    {
     "name": "stderr",
     "output_type": "stream",
     "text": [
      " 55%|█████▌    | 16/29 [27:00<33:51, 156.26s/it]"
     ]
    },
    {
     "name": "stdout",
     "output_type": "stream",
     "text": [
      "> folds=17, accuracy=0.773 (0.762,0.790)\n"
     ]
    },
    {
     "name": "stderr",
     "output_type": "stream",
     "text": [
      " 59%|█████▊    | 17/29 [30:05<32:56, 164.70s/it]"
     ]
    },
    {
     "name": "stdout",
     "output_type": "stream",
     "text": [
      "> folds=18, accuracy=0.772 (0.754,0.791)\n"
     ]
    },
    {
     "name": "stderr",
     "output_type": "stream",
     "text": [
      " 62%|██████▏   | 18/29 [33:29<32:24, 176.73s/it]"
     ]
    },
    {
     "name": "stdout",
     "output_type": "stream",
     "text": [
      "> folds=19, accuracy=0.773 (0.750,0.799)\n"
     ]
    },
    {
     "name": "stderr",
     "output_type": "stream",
     "text": [
      " 66%|██████▌   | 19/29 [36:59<31:06, 186.63s/it]"
     ]
    },
    {
     "name": "stdout",
     "output_type": "stream",
     "text": [
      "> folds=20, accuracy=0.772 (0.758,0.785)\n"
     ]
    },
    {
     "name": "stderr",
     "output_type": "stream",
     "text": [
      " 69%|██████▉   | 20/29 [40:41<29:35, 197.30s/it]"
     ]
    },
    {
     "name": "stdout",
     "output_type": "stream",
     "text": [
      "> folds=21, accuracy=0.773 (0.757,0.787)\n"
     ]
    },
    {
     "name": "stderr",
     "output_type": "stream",
     "text": [
      " 72%|███████▏  | 21/29 [44:47<28:13, 211.72s/it]"
     ]
    },
    {
     "name": "stdout",
     "output_type": "stream",
     "text": [
      "> folds=22, accuracy=0.773 (0.752,0.798)\n"
     ]
    },
    {
     "name": "stderr",
     "output_type": "stream",
     "text": [
      " 76%|███████▌  | 22/29 [48:52<25:53, 221.93s/it]"
     ]
    },
    {
     "name": "stdout",
     "output_type": "stream",
     "text": [
      "> folds=23, accuracy=0.773 (0.757,0.793)\n"
     ]
    },
    {
     "name": "stderr",
     "output_type": "stream",
     "text": [
      " 79%|███████▉  | 23/29 [52:57<22:52, 228.80s/it]"
     ]
    },
    {
     "name": "stdout",
     "output_type": "stream",
     "text": [
      "> folds=24, accuracy=0.773 (0.756,0.796)\n"
     ]
    },
    {
     "name": "stderr",
     "output_type": "stream",
     "text": [
      " 83%|████████▎ | 24/29 [57:13<19:44, 236.89s/it]"
     ]
    },
    {
     "name": "stdout",
     "output_type": "stream",
     "text": [
      "> folds=25, accuracy=0.773 (0.748,0.805)\n"
     ]
    },
    {
     "name": "stderr",
     "output_type": "stream",
     "text": [
      " 86%|████████▌ | 25/29 [1:01:38<16:21, 245.47s/it]"
     ]
    },
    {
     "name": "stdout",
     "output_type": "stream",
     "text": [
      "> folds=26, accuracy=0.773 (0.758,0.800)\n"
     ]
    },
    {
     "name": "stderr",
     "output_type": "stream",
     "text": [
      " 90%|████████▉ | 26/29 [1:06:22<12:51, 257.05s/it]"
     ]
    },
    {
     "name": "stdout",
     "output_type": "stream",
     "text": [
      "> folds=27, accuracy=0.773 (0.757,0.792)\n"
     ]
    },
    {
     "name": "stderr",
     "output_type": "stream",
     "text": [
      " 93%|█████████▎| 27/29 [1:11:11<08:53, 266.51s/it]"
     ]
    },
    {
     "name": "stdout",
     "output_type": "stream",
     "text": [
      "> folds=28, accuracy=0.774 (0.756,0.800)\n"
     ]
    },
    {
     "name": "stderr",
     "output_type": "stream",
     "text": [
      " 97%|█████████▋| 28/29 [1:16:18<04:38, 278.56s/it]"
     ]
    },
    {
     "name": "stdout",
     "output_type": "stream",
     "text": [
      "> folds=29, accuracy=0.774 (0.750,0.794)\n"
     ]
    },
    {
     "name": "stderr",
     "output_type": "stream",
     "text": [
      "100%|██████████| 29/29 [1:22:39<00:00, 171.00s/it]"
     ]
    },
    {
     "name": "stdout",
     "output_type": "stream",
     "text": [
      "> folds=30, accuracy=0.774 (0.753,0.796)\n"
     ]
    },
    {
     "name": "stderr",
     "output_type": "stream",
     "text": [
      "\n"
     ]
    },
    {
     "ename": "NameError",
     "evalue": "ignored",
     "output_type": "error",
     "traceback": [
      "\u001b[0;31m---------------------------------------------------------------------------\u001b[0m",
      "\u001b[0;31mNameError\u001b[0m                                 Traceback (most recent call last)",
      "\u001b[0;32m<ipython-input-19-fc435cf2bd82>\u001b[0m in \u001b[0;36m<module>\u001b[0;34m()\u001b[0m\n\u001b[1;32m     51\u001b[0m \u001b[0mpyplot\u001b[0m\u001b[0;34m.\u001b[0m\u001b[0merrorbar\u001b[0m\u001b[0;34m(\u001b[0m\u001b[0mfolds\u001b[0m\u001b[0;34m,\u001b[0m \u001b[0mmeans\u001b[0m\u001b[0;34m,\u001b[0m \u001b[0myerr\u001b[0m\u001b[0;34m=\u001b[0m\u001b[0;34m[\u001b[0m\u001b[0mmins\u001b[0m\u001b[0;34m,\u001b[0m \u001b[0mmaxs\u001b[0m\u001b[0;34m]\u001b[0m\u001b[0;34m,\u001b[0m \u001b[0mfmt\u001b[0m\u001b[0;34m=\u001b[0m\u001b[0;34m'o'\u001b[0m\u001b[0;34m)\u001b[0m\u001b[0;34m\u001b[0m\u001b[0;34m\u001b[0m\u001b[0m\n\u001b[1;32m     52\u001b[0m \u001b[0;31m# plot the ideal case in a separate color\u001b[0m\u001b[0;34m\u001b[0m\u001b[0;34m\u001b[0m\u001b[0;34m\u001b[0m\u001b[0m\n\u001b[0;32m---> 53\u001b[0;31m \u001b[0mpyplot\u001b[0m\u001b[0;34m.\u001b[0m\u001b[0mplot\u001b[0m\u001b[0;34m(\u001b[0m\u001b[0mfolds\u001b[0m\u001b[0;34m,\u001b[0m \u001b[0;34m[\u001b[0m\u001b[0mideal\u001b[0m \u001b[0;32mfor\u001b[0m \u001b[0m_\u001b[0m \u001b[0;32min\u001b[0m \u001b[0mrange\u001b[0m\u001b[0;34m(\u001b[0m\u001b[0mlen\u001b[0m\u001b[0;34m(\u001b[0m\u001b[0mfolds\u001b[0m\u001b[0;34m)\u001b[0m\u001b[0;34m)\u001b[0m\u001b[0;34m]\u001b[0m\u001b[0;34m,\u001b[0m \u001b[0mcolor\u001b[0m\u001b[0;34m=\u001b[0m\u001b[0;34m'r'\u001b[0m\u001b[0;34m)\u001b[0m\u001b[0;34m\u001b[0m\u001b[0;34m\u001b[0m\u001b[0m\n\u001b[0m\u001b[1;32m     54\u001b[0m \u001b[0;31m# show the plot\u001b[0m\u001b[0;34m\u001b[0m\u001b[0;34m\u001b[0m\u001b[0;34m\u001b[0m\u001b[0m\n\u001b[1;32m     55\u001b[0m \u001b[0mpyplot\u001b[0m\u001b[0;34m.\u001b[0m\u001b[0mshow\u001b[0m\u001b[0;34m(\u001b[0m\u001b[0;34m)\u001b[0m\u001b[0;34m\u001b[0m\u001b[0;34m\u001b[0m\u001b[0m\n",
      "\u001b[0;32m<ipython-input-19-fc435cf2bd82>\u001b[0m in \u001b[0;36m<listcomp>\u001b[0;34m(.0)\u001b[0m\n\u001b[1;32m     51\u001b[0m \u001b[0mpyplot\u001b[0m\u001b[0;34m.\u001b[0m\u001b[0merrorbar\u001b[0m\u001b[0;34m(\u001b[0m\u001b[0mfolds\u001b[0m\u001b[0;34m,\u001b[0m \u001b[0mmeans\u001b[0m\u001b[0;34m,\u001b[0m \u001b[0myerr\u001b[0m\u001b[0;34m=\u001b[0m\u001b[0;34m[\u001b[0m\u001b[0mmins\u001b[0m\u001b[0;34m,\u001b[0m \u001b[0mmaxs\u001b[0m\u001b[0;34m]\u001b[0m\u001b[0;34m,\u001b[0m \u001b[0mfmt\u001b[0m\u001b[0;34m=\u001b[0m\u001b[0;34m'o'\u001b[0m\u001b[0;34m)\u001b[0m\u001b[0;34m\u001b[0m\u001b[0;34m\u001b[0m\u001b[0m\n\u001b[1;32m     52\u001b[0m \u001b[0;31m# plot the ideal case in a separate color\u001b[0m\u001b[0;34m\u001b[0m\u001b[0;34m\u001b[0m\u001b[0;34m\u001b[0m\u001b[0m\n\u001b[0;32m---> 53\u001b[0;31m \u001b[0mpyplot\u001b[0m\u001b[0;34m.\u001b[0m\u001b[0mplot\u001b[0m\u001b[0;34m(\u001b[0m\u001b[0mfolds\u001b[0m\u001b[0;34m,\u001b[0m \u001b[0;34m[\u001b[0m\u001b[0mideal\u001b[0m \u001b[0;32mfor\u001b[0m \u001b[0m_\u001b[0m \u001b[0;32min\u001b[0m \u001b[0mrange\u001b[0m\u001b[0;34m(\u001b[0m\u001b[0mlen\u001b[0m\u001b[0;34m(\u001b[0m\u001b[0mfolds\u001b[0m\u001b[0;34m)\u001b[0m\u001b[0;34m)\u001b[0m\u001b[0;34m]\u001b[0m\u001b[0;34m,\u001b[0m \u001b[0mcolor\u001b[0m\u001b[0;34m=\u001b[0m\u001b[0;34m'r'\u001b[0m\u001b[0;34m)\u001b[0m\u001b[0;34m\u001b[0m\u001b[0;34m\u001b[0m\u001b[0m\n\u001b[0m\u001b[1;32m     54\u001b[0m \u001b[0;31m# show the plot\u001b[0m\u001b[0;34m\u001b[0m\u001b[0;34m\u001b[0m\u001b[0;34m\u001b[0m\u001b[0m\n\u001b[1;32m     55\u001b[0m \u001b[0mpyplot\u001b[0m\u001b[0;34m.\u001b[0m\u001b[0mshow\u001b[0m\u001b[0;34m(\u001b[0m\u001b[0;34m)\u001b[0m\u001b[0;34m\u001b[0m\u001b[0;34m\u001b[0m\u001b[0m\n",
      "\u001b[0;31mNameError\u001b[0m: name 'ideal' is not defined"
     ]
    },
    {
     "data": {
      "image/png": "[encoded data removed]",
      "text/plain": [
       "<Figure size 432x288 with 1 Axes>"
      ]
     },
     "metadata": {
      "needs_background": "light"
     },
     "output_type": "display_data"
    }
   ],
   "source": [
    "def model_testing(cv):\n",
    "    model = LogisticRegression()\n",
    "    scores = cross_val_score(model, x, y, scoring='accuracy', cv=cv, n_jobs=-1)\n",
    "    return mean(scores), scores.min(), scores.max()\n",
    "folds = range(2,31)\n",
    "means, mins, maxs = list(),list(),list()\n",
    "for k in tqdm(folds):\n",
    "    cv = KFold(n_splits=k, shuffle=True, random_state=1)\n",
    "    k_mean, k_min, k_max = model_testing(cv,x,y)\n",
    "    print('> folds=%d, accuracy=%.3f (%.3f,%.3f)' % (k, k_mean, k_min, k_max))\n",
    "    means.append(k_mean)\n",
    "    mins.append(k_mean - k_min)\n",
    "    maxs.append(k_max - k_mean)\n",
    "pyplot.errorbar(folds, means, yerr=[mins, maxs], fmt='o')\n",
    "pyplot.plot(folds, [i for i in range(len(folds))], color='r')\n",
    "pyplot.show()"
   ]
  },
  {
   "cell_type": "markdown",
   "metadata": {
    "id": "d3wKufmhXtCx"
   },
   "source": [
    "LGBM"
   ]
  },
  {
   "cell_type": "code",
   "execution_count": null,
   "metadata": {
    "colab": {
     "base_uri": "https://localhost:8080/"
    },
    "id": "HeLnJG_KToV_",
    "outputId": "758cdd23-401a-4c35-d09b-97b5f347f693"
   },
   "outputs": [
    {
     "data": {
      "text/plain": [
       "0.6314779270633397"
      ]
     },
     "execution_count": 33,
     "metadata": {},
     "output_type": "execute_result"
    }
   ],
   "source": [
    "#params = {'n_estimators': 365, 'n_jobs': -1, 'random_state': 2, 'learning_rate': 0.014564209621859385, 'colsample_bytree': 0.48762749309989595}\n",
    "from sklearn.preprocessing import StandardScaler\n",
    "from sklearn import linear_model\n",
    "\n",
    "lgbm = lgb.LGBMClassifier()\n",
    "lgbm.fit(train_x,train_y)\n",
    "accuracy_score(test_y,lgbm.predict(test_x))"
   ]
  },
  {
   "cell_type": "code",
   "execution_count": null,
   "metadata": {
    "colab": {
     "base_uri": "https://localhost:8080/",
     "height": 953
    },
    "id": "sshoIIvb2LYH",
    "outputId": "39a37c4e-f641-45bd-c502-5e54a58aed70"
   },
   "outputs": [
    {
     "name": "stdout",
     "output_type": "stream",
     "text": [
      "Model: \"sequential_1\"\n",
      "_________________________________________________________________\n",
      " Layer (type)                Output Shape              Param #   \n",
      "=================================================================\n",
      " dense_4 (Dense)             (37711, 5757)             33148806  \n",
      "                                                                 \n",
      " dropout_3 (Dropout)         (37711, 5757)             0         \n",
      "                                                                 \n",
      " dense_5 (Dense)             (37711, 1000)             5758000   \n",
      "                                                                 \n",
      " dropout_4 (Dropout)         (37711, 1000)             0         \n",
      "                                                                 \n",
      " dense_6 (Dense)             (37711, 250)              250250    \n",
      "                                                                 \n",
      " dropout_5 (Dropout)         (37711, 250)              0         \n",
      "                                                                 \n",
      " dense_7 (Dense)             (37711, 7)                1757      \n",
      "                                                                 \n",
      "=================================================================\n",
      "Total params: 39,158,813\n",
      "Trainable params: 39,158,813\n",
      "Non-trainable params: 0\n",
      "_________________________________________________________________\n",
      "Epoch 1/10\n",
      "755/755 [==============================] - 243s 320ms/step - loss: 0.3337 - accuracy: 0.8992 - val_loss: 2.2390 - val_accuracy: 0.5873 - lr: 0.0010\n",
      "Epoch 2/10\n",
      "755/755 [==============================] - 239s 317ms/step - loss: 0.0701 - accuracy: 0.9789 - val_loss: 2.8846 - val_accuracy: 0.6046 - lr: 0.0010\n",
      "Epoch 3/10\n",
      "755/755 [==============================] - 234s 310ms/step - loss: 0.0575 - accuracy: 0.9821 - val_loss: 3.8507 - val_accuracy: 0.5912 - lr: 0.0010\n",
      "Epoch 4/10\n",
      "755/755 [==============================] - 233s 308ms/step - loss: 0.0547 - accuracy: 0.9832 - val_loss: 3.9700 - val_accuracy: 0.6008 - lr: 0.0010\n",
      "Epoch 5/10\n",
      "755/755 [==============================] - 233s 308ms/step - loss: 0.0343 - accuracy: 0.9885 - val_loss: 4.4878 - val_accuracy: 0.6065 - lr: 0.0010\n",
      "Epoch 6/10\n",
      "550/755 [====================>.........] - ETA: 1:02 - loss: 0.0349 - accuracy: 0.9885"
     ]
    },
    {
     "ename": "KeyboardInterrupt",
     "evalue": "ignored",
     "output_type": "error",
     "traceback": [
      "\u001b[0;31m---------------------------------------------------------------------------\u001b[0m",
      "\u001b[0;31mKeyboardInterrupt\u001b[0m                         Traceback (most recent call last)",
      "\u001b[0;32m<ipython-input-18-4b826685ff8c>\u001b[0m in \u001b[0;36m<module>\u001b[0;34m()\u001b[0m\n\u001b[1;32m     20\u001b[0m \u001b[0mepochs\u001b[0m \u001b[0;34m=\u001b[0m \u001b[0;36m10\u001b[0m\u001b[0;34m\u001b[0m\u001b[0;34m\u001b[0m\u001b[0m\n\u001b[1;32m     21\u001b[0m \u001b[0mcallbacks\u001b[0m\u001b[0;34m=\u001b[0m\u001b[0;34m[\u001b[0m\u001b[0mReduceLROnPlateau\u001b[0m\u001b[0;34m(\u001b[0m\u001b[0;34m)\u001b[0m\u001b[0;34m]\u001b[0m\u001b[0;34m\u001b[0m\u001b[0;34m\u001b[0m\u001b[0m\n\u001b[0;32m---> 22\u001b[0;31m \u001b[0mhistory\u001b[0m \u001b[0;34m=\u001b[0m \u001b[0mmodel\u001b[0m\u001b[0;34m.\u001b[0m\u001b[0mfit\u001b[0m\u001b[0;34m(\u001b[0m\u001b[0mtrain_x\u001b[0m\u001b[0;34m,\u001b[0m\u001b[0mtrain_y\u001b[0m\u001b[0;34m,\u001b[0m\u001b[0mepochs\u001b[0m\u001b[0;34m=\u001b[0m\u001b[0;36m10\u001b[0m\u001b[0;34m,\u001b[0m\u001b[0mbatch_size\u001b[0m\u001b[0;34m=\u001b[0m\u001b[0;36m50\u001b[0m\u001b[0;34m,\u001b[0m\u001b[0mcallbacks\u001b[0m\u001b[0;34m=\u001b[0m\u001b[0mcallbacks\u001b[0m\u001b[0;34m,\u001b[0m \u001b[0mvalidation_data\u001b[0m\u001b[0;34m=\u001b[0m\u001b[0;34m(\u001b[0m\u001b[0mtest_x\u001b[0m\u001b[0;34m,\u001b[0m \u001b[0mtest_y\u001b[0m\u001b[0;34m)\u001b[0m\u001b[0;34m,\u001b[0m\u001b[0mshuffle\u001b[0m\u001b[0;34m=\u001b[0m\u001b[0;32mTrue\u001b[0m\u001b[0;34m)\u001b[0m\u001b[0;34m\u001b[0m\u001b[0;34m\u001b[0m\u001b[0m\n\u001b[0m",
      "\u001b[0;32m/usr/local/lib/python3.7/dist-packages/keras/utils/traceback_utils.py\u001b[0m in \u001b[0;36merror_handler\u001b[0;34m(*args, **kwargs)\u001b[0m\n\u001b[1;32m     62\u001b[0m     \u001b[0mfiltered_tb\u001b[0m \u001b[0;34m=\u001b[0m \u001b[0;32mNone\u001b[0m\u001b[0;34m\u001b[0m\u001b[0;34m\u001b[0m\u001b[0m\n\u001b[1;32m     63\u001b[0m     \u001b[0;32mtry\u001b[0m\u001b[0;34m:\u001b[0m\u001b[0;34m\u001b[0m\u001b[0;34m\u001b[0m\u001b[0m\n\u001b[0;32m---> 64\u001b[0;31m       \u001b[0;32mreturn\u001b[0m \u001b[0mfn\u001b[0m\u001b[0;34m(\u001b[0m\u001b[0;34m*\u001b[0m\u001b[0margs\u001b[0m\u001b[0;34m,\u001b[0m \u001b[0;34m**\u001b[0m\u001b[0mkwargs\u001b[0m\u001b[0;34m)\u001b[0m\u001b[0;34m\u001b[0m\u001b[0;34m\u001b[0m\u001b[0m\n\u001b[0m\u001b[1;32m     65\u001b[0m     \u001b[0;32mexcept\u001b[0m \u001b[0mException\u001b[0m \u001b[0;32mas\u001b[0m \u001b[0me\u001b[0m\u001b[0;34m:\u001b[0m  \u001b[0;31m# pylint: disable=broad-except\u001b[0m\u001b[0;34m\u001b[0m\u001b[0;34m\u001b[0m\u001b[0m\n\u001b[1;32m     66\u001b[0m       \u001b[0mfiltered_tb\u001b[0m \u001b[0;34m=\u001b[0m \u001b[0m_process_traceback_frames\u001b[0m\u001b[0;34m(\u001b[0m\u001b[0me\u001b[0m\u001b[0;34m.\u001b[0m\u001b[0m__traceback__\u001b[0m\u001b[0;34m)\u001b[0m\u001b[0;34m\u001b[0m\u001b[0;34m\u001b[0m\u001b[0m\n",
      "\u001b[0;32m/usr/local/lib/python3.7/dist-packages/keras/engine/training.py\u001b[0m in \u001b[0;36mfit\u001b[0;34m(self, x, y, batch_size, epochs, verbose, callbacks, validation_split, validation_data, shuffle, class_weight, sample_weight, initial_epoch, steps_per_epoch, validation_steps, validation_batch_size, validation_freq, max_queue_size, workers, use_multiprocessing)\u001b[0m\n\u001b[1;32m   1382\u001b[0m                 _r=1):\n\u001b[1;32m   1383\u001b[0m               \u001b[0mcallbacks\u001b[0m\u001b[0;34m.\u001b[0m\u001b[0mon_train_batch_begin\u001b[0m\u001b[0;34m(\u001b[0m\u001b[0mstep\u001b[0m\u001b[0;34m)\u001b[0m\u001b[0;34m\u001b[0m\u001b[0;34m\u001b[0m\u001b[0m\n\u001b[0;32m-> 1384\u001b[0;31m               \u001b[0mtmp_logs\u001b[0m \u001b[0;34m=\u001b[0m \u001b[0mself\u001b[0m\u001b[0;34m.\u001b[0m\u001b[0mtrain_function\u001b[0m\u001b[0;34m(\u001b[0m\u001b[0miterator\u001b[0m\u001b[0;34m)\u001b[0m\u001b[0;34m\u001b[0m\u001b[0;34m\u001b[0m\u001b[0m\n\u001b[0m\u001b[1;32m   1385\u001b[0m               \u001b[0;32mif\u001b[0m \u001b[0mdata_handler\u001b[0m\u001b[0;34m.\u001b[0m\u001b[0mshould_sync\u001b[0m\u001b[0;34m:\u001b[0m\u001b[0;34m\u001b[0m\u001b[0;34m\u001b[0m\u001b[0m\n\u001b[1;32m   1386\u001b[0m                 \u001b[0mcontext\u001b[0m\u001b[0;34m.\u001b[0m\u001b[0masync_wait\u001b[0m\u001b[0;34m(\u001b[0m\u001b[0;34m)\u001b[0m\u001b[0;34m\u001b[0m\u001b[0;34m\u001b[0m\u001b[0m\n",
      "\u001b[0;32m/usr/local/lib/python3.7/dist-packages/tensorflow/python/util/traceback_utils.py\u001b[0m in \u001b[0;36merror_handler\u001b[0;34m(*args, **kwargs)\u001b[0m\n\u001b[1;32m    148\u001b[0m     \u001b[0mfiltered_tb\u001b[0m \u001b[0;34m=\u001b[0m \u001b[0;32mNone\u001b[0m\u001b[0;34m\u001b[0m\u001b[0;34m\u001b[0m\u001b[0m\n\u001b[1;32m    149\u001b[0m     \u001b[0;32mtry\u001b[0m\u001b[0;34m:\u001b[0m\u001b[0;34m\u001b[0m\u001b[0;34m\u001b[0m\u001b[0m\n\u001b[0;32m--> 150\u001b[0;31m       \u001b[0;32mreturn\u001b[0m \u001b[0mfn\u001b[0m\u001b[0;34m(\u001b[0m\u001b[0;34m*\u001b[0m\u001b[0margs\u001b[0m\u001b[0;34m,\u001b[0m \u001b[0;34m**\u001b[0m\u001b[0mkwargs\u001b[0m\u001b[0;34m)\u001b[0m\u001b[0;34m\u001b[0m\u001b[0;34m\u001b[0m\u001b[0m\n\u001b[0m\u001b[1;32m    151\u001b[0m     \u001b[0;32mexcept\u001b[0m \u001b[0mException\u001b[0m \u001b[0;32mas\u001b[0m \u001b[0me\u001b[0m\u001b[0;34m:\u001b[0m\u001b[0;34m\u001b[0m\u001b[0;34m\u001b[0m\u001b[0m\n\u001b[1;32m    152\u001b[0m       \u001b[0mfiltered_tb\u001b[0m \u001b[0;34m=\u001b[0m \u001b[0m_process_traceback_frames\u001b[0m\u001b[0;34m(\u001b[0m\u001b[0me\u001b[0m\u001b[0;34m.\u001b[0m\u001b[0m__traceback__\u001b[0m\u001b[0;34m)\u001b[0m\u001b[0;34m\u001b[0m\u001b[0;34m\u001b[0m\u001b[0m\n",
      "\u001b[0;32m/usr/local/lib/python3.7/dist-packages/tensorflow/python/eager/def_function.py\u001b[0m in \u001b[0;36m__call__\u001b[0;34m(self, *args, **kwds)\u001b[0m\n\u001b[1;32m    913\u001b[0m \u001b[0;34m\u001b[0m\u001b[0m\n\u001b[1;32m    914\u001b[0m       \u001b[0;32mwith\u001b[0m \u001b[0mOptionalXlaContext\u001b[0m\u001b[0;34m(\u001b[0m\u001b[0mself\u001b[0m\u001b[0;34m.\u001b[0m\u001b[0m_jit_compile\u001b[0m\u001b[0;34m)\u001b[0m\u001b[0;34m:\u001b[0m\u001b[0;34m\u001b[0m\u001b[0;34m\u001b[0m\u001b[0m\n\u001b[0;32m--> 915\u001b[0;31m         \u001b[0mresult\u001b[0m \u001b[0;34m=\u001b[0m \u001b[0mself\u001b[0m\u001b[0;34m.\u001b[0m\u001b[0m_call\u001b[0m\u001b[0;34m(\u001b[0m\u001b[0;34m*\u001b[0m\u001b[0margs\u001b[0m\u001b[0;34m,\u001b[0m \u001b[0;34m**\u001b[0m\u001b[0mkwds\u001b[0m\u001b[0;34m)\u001b[0m\u001b[0;34m\u001b[0m\u001b[0;34m\u001b[0m\u001b[0m\n\u001b[0m\u001b[1;32m    916\u001b[0m \u001b[0;34m\u001b[0m\u001b[0m\n\u001b[1;32m    917\u001b[0m       \u001b[0mnew_tracing_count\u001b[0m \u001b[0;34m=\u001b[0m \u001b[0mself\u001b[0m\u001b[0;34m.\u001b[0m\u001b[0mexperimental_get_tracing_count\u001b[0m\u001b[0;34m(\u001b[0m\u001b[0;34m)\u001b[0m\u001b[0;34m\u001b[0m\u001b[0;34m\u001b[0m\u001b[0m\n",
      "\u001b[0;32m/usr/local/lib/python3.7/dist-packages/tensorflow/python/eager/def_function.py\u001b[0m in \u001b[0;36m_call\u001b[0;34m(self, *args, **kwds)\u001b[0m\n\u001b[1;32m    945\u001b[0m       \u001b[0;31m# In this case we have created variables on the first call, so we run the\u001b[0m\u001b[0;34m\u001b[0m\u001b[0;34m\u001b[0m\u001b[0;34m\u001b[0m\u001b[0m\n\u001b[1;32m    946\u001b[0m       \u001b[0;31m# defunned version which is guaranteed to never create variables.\u001b[0m\u001b[0;34m\u001b[0m\u001b[0;34m\u001b[0m\u001b[0;34m\u001b[0m\u001b[0m\n\u001b[0;32m--> 947\u001b[0;31m       \u001b[0;32mreturn\u001b[0m \u001b[0mself\u001b[0m\u001b[0;34m.\u001b[0m\u001b[0m_stateless_fn\u001b[0m\u001b[0;34m(\u001b[0m\u001b[0;34m*\u001b[0m\u001b[0margs\u001b[0m\u001b[0;34m,\u001b[0m \u001b[0;34m**\u001b[0m\u001b[0mkwds\u001b[0m\u001b[0;34m)\u001b[0m  \u001b[0;31m# pylint: disable=not-callable\u001b[0m\u001b[0;34m\u001b[0m\u001b[0;34m\u001b[0m\u001b[0m\n\u001b[0m\u001b[1;32m    948\u001b[0m     \u001b[0;32melif\u001b[0m \u001b[0mself\u001b[0m\u001b[0;34m.\u001b[0m\u001b[0m_stateful_fn\u001b[0m \u001b[0;32mis\u001b[0m \u001b[0;32mnot\u001b[0m \u001b[0;32mNone\u001b[0m\u001b[0;34m:\u001b[0m\u001b[0;34m\u001b[0m\u001b[0;34m\u001b[0m\u001b[0m\n\u001b[1;32m    949\u001b[0m       \u001b[0;31m# Release the lock early so that multiple threads can perform the call\u001b[0m\u001b[0;34m\u001b[0m\u001b[0;34m\u001b[0m\u001b[0;34m\u001b[0m\u001b[0m\n",
      "\u001b[0;32m/usr/local/lib/python3.7/dist-packages/tensorflow/python/eager/function.py\u001b[0m in \u001b[0;36m__call__\u001b[0;34m(self, *args, **kwargs)\u001b[0m\n\u001b[1;32m   2955\u001b[0m        filtered_flat_args) = self._maybe_define_function(args, kwargs)\n\u001b[1;32m   2956\u001b[0m     return graph_function._call_flat(\n\u001b[0;32m-> 2957\u001b[0;31m         filtered_flat_args, captured_inputs=graph_function.captured_inputs)  # pylint: disable=protected-access\n\u001b[0m\u001b[1;32m   2958\u001b[0m \u001b[0;34m\u001b[0m\u001b[0m\n\u001b[1;32m   2959\u001b[0m   \u001b[0;34m@\u001b[0m\u001b[0mproperty\u001b[0m\u001b[0;34m\u001b[0m\u001b[0;34m\u001b[0m\u001b[0m\n",
      "\u001b[0;32m/usr/local/lib/python3.7/dist-packages/tensorflow/python/eager/function.py\u001b[0m in \u001b[0;36m_call_flat\u001b[0;34m(self, args, captured_inputs, cancellation_manager)\u001b[0m\n\u001b[1;32m   1852\u001b[0m       \u001b[0;31m# No tape is watching; skip to running the function.\u001b[0m\u001b[0;34m\u001b[0m\u001b[0;34m\u001b[0m\u001b[0;34m\u001b[0m\u001b[0m\n\u001b[1;32m   1853\u001b[0m       return self._build_call_outputs(self._inference_function.call(\n\u001b[0;32m-> 1854\u001b[0;31m           ctx, args, cancellation_manager=cancellation_manager))\n\u001b[0m\u001b[1;32m   1855\u001b[0m     forward_backward = self._select_forward_and_backward_functions(\n\u001b[1;32m   1856\u001b[0m         \u001b[0margs\u001b[0m\u001b[0;34m,\u001b[0m\u001b[0;34m\u001b[0m\u001b[0;34m\u001b[0m\u001b[0m\n",
      "\u001b[0;32m/usr/local/lib/python3.7/dist-packages/tensorflow/python/eager/function.py\u001b[0m in \u001b[0;36mcall\u001b[0;34m(self, ctx, args, cancellation_manager)\u001b[0m\n\u001b[1;32m    502\u001b[0m               \u001b[0minputs\u001b[0m\u001b[0;34m=\u001b[0m\u001b[0margs\u001b[0m\u001b[0;34m,\u001b[0m\u001b[0;34m\u001b[0m\u001b[0;34m\u001b[0m\u001b[0m\n\u001b[1;32m    503\u001b[0m               \u001b[0mattrs\u001b[0m\u001b[0;34m=\u001b[0m\u001b[0mattrs\u001b[0m\u001b[0;34m,\u001b[0m\u001b[0;34m\u001b[0m\u001b[0;34m\u001b[0m\u001b[0m\n\u001b[0;32m--> 504\u001b[0;31m               ctx=ctx)\n\u001b[0m\u001b[1;32m    505\u001b[0m         \u001b[0;32melse\u001b[0m\u001b[0;34m:\u001b[0m\u001b[0;34m\u001b[0m\u001b[0;34m\u001b[0m\u001b[0m\n\u001b[1;32m    506\u001b[0m           outputs = execute.execute_with_cancellation(\n",
      "\u001b[0;32m/usr/local/lib/python3.7/dist-packages/tensorflow/python/eager/execute.py\u001b[0m in \u001b[0;36mquick_execute\u001b[0;34m(op_name, num_outputs, inputs, attrs, ctx, name)\u001b[0m\n\u001b[1;32m     53\u001b[0m     \u001b[0mctx\u001b[0m\u001b[0;34m.\u001b[0m\u001b[0mensure_initialized\u001b[0m\u001b[0;34m(\u001b[0m\u001b[0;34m)\u001b[0m\u001b[0;34m\u001b[0m\u001b[0;34m\u001b[0m\u001b[0m\n\u001b[1;32m     54\u001b[0m     tensors = pywrap_tfe.TFE_Py_Execute(ctx._handle, device_name, op_name,\n\u001b[0;32m---> 55\u001b[0;31m                                         inputs, attrs, num_outputs)\n\u001b[0m\u001b[1;32m     56\u001b[0m   \u001b[0;32mexcept\u001b[0m \u001b[0mcore\u001b[0m\u001b[0;34m.\u001b[0m\u001b[0m_NotOkStatusException\u001b[0m \u001b[0;32mas\u001b[0m \u001b[0me\u001b[0m\u001b[0;34m:\u001b[0m\u001b[0;34m\u001b[0m\u001b[0;34m\u001b[0m\u001b[0m\n\u001b[1;32m     57\u001b[0m     \u001b[0;32mif\u001b[0m \u001b[0mname\u001b[0m \u001b[0;32mis\u001b[0m \u001b[0;32mnot\u001b[0m \u001b[0;32mNone\u001b[0m\u001b[0;34m:\u001b[0m\u001b[0;34m\u001b[0m\u001b[0;34m\u001b[0m\u001b[0m\n",
      "\u001b[0;31mKeyboardInterrupt\u001b[0m: "
     ]
    }
   ],
   "source": [
    "def f1_metric(y_true, y_pred):\n",
    "    true_positives = K.sum(K.round(K.clip(y_true * y_pred, 0, 1)))\n",
    "    possible_positives = K.sum(K.round(K.clip(y_true, 0, 1)))\n",
    "    predicted_positives = K.sum(K.round(K.clip(y_pred, 0, 1)))\n",
    "    precision = true_positives / (predicted_positives + K.epsilon())\n",
    "    recall = true_positives / (possible_positives + K.epsilon())\n",
    "    f1_val = 2*(precision*recall)/(precision+recall+K.epsilon())\n",
    "    return f1_val\n",
    "model = tf.keras.Sequential([\n",
    "    layers.Dense(5757,activation=tf.keras.layers.LeakyReLU()),\n",
    "    layers.Dropout(0.2),\n",
    "    layers.Dense(1000,activation=tf.keras.layers.LeakyReLU()),\n",
    "    layers.Dropout(0.2),\n",
    "    layers.Dense(250,activation=tf.keras.layers.LeakyReLU()),\n",
    "    layers.Dropout(0.2),\n",
    "    layers.Dense(7,activation='softmax')])\n",
    "model.compile(loss='sparse_categorical_crossentropy', optimizer=\"adam\", metrics=['accuracy'])\n",
    "model.build((train_x.shape[0], train_x.shape[1]))\n",
    "model.summary()\n",
    "epochs = 10\n",
    "callbacks=[ReduceLROnPlateau()]\n",
    "history = model.fit(train_x,train_y,epochs=10,batch_size=50,callbacks=callbacks, validation_data=(test_x, test_y),shuffle=True)"
   ]
  },
  {
   "cell_type": "code",
   "execution_count": null,
   "metadata": {
    "id": "AtIvVUYt3NzH"
   },
   "outputs": [],
   "source": []
  }
 ],
 "metadata": {
  "colab": {
   "collapsed_sections": [],
   "name": "Copy of LegalML.ipynb",
   "provenance": []
  },
  "kernelspec": {
   "display_name": "Python 3 (ipykernel)",
   "language": "python",
   "name": "python3"
  },
  "language_info": {
   "codemirror_mode": {
    "name": "ipython",
    "version": 3
   },
   "file_extension": ".py",
   "mimetype": "text/x-python",
   "name": "python",
   "nbconvert_exporter": "python",
   "pygments_lexer": "ipython3",
   "version": "3.9.7"
  }
 },
 "nbformat": 4,
 "nbformat_minor": 1
}
